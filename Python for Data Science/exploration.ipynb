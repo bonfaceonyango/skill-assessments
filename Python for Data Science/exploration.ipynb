{
 "cells": [
  {
   "cell_type": "code",
   "execution_count": 1,
   "id": "260d6bba-4ff2-42b6-bc92-ecb22be8f940",
   "metadata": {
    "tags": []
   },
   "outputs": [],
   "source": [
    "#import required libraries\n",
    "import pandas as pd\n",
    "import matplotlib.pyplot as plt\n",
    "import plotly.express as px\n",
    "import scipy.stats as stats"
   ]
  },
  {
   "cell_type": "code",
   "execution_count": 2,
   "id": "39747a87-a5fa-45cc-a0cf-1652b8518dfa",
   "metadata": {
    "tags": []
   },
   "outputs": [],
   "source": [
    "# ! pip install plotly"
   ]
  },
  {
   "cell_type": "markdown",
   "id": "76afd5a7-c6cf-465f-9485-34421677f7f1",
   "metadata": {},
   "source": [
    "# Q1. Read in the `gapminder_clean.csv` data as a `pandas` `DataFrame`."
   ]
  },
  {
   "cell_type": "code",
   "execution_count": 3,
   "id": "a2939096-32c7-4793-9b39-ef71523a8c2e",
   "metadata": {
    "tags": []
   },
   "outputs": [],
   "source": [
    "# read the dataframe\n",
    "df = pd.read_csv('gapminder_clean.csv')"
   ]
  },
  {
   "cell_type": "code",
   "execution_count": 4,
   "id": "8a0ef0a6-0426-4d7f-af50-bfe550262990",
   "metadata": {
    "tags": []
   },
   "outputs": [
    {
     "data": {
      "text/html": [
       "<div>\n",
       "<style scoped>\n",
       "    .dataframe tbody tr th:only-of-type {\n",
       "        vertical-align: middle;\n",
       "    }\n",
       "\n",
       "    .dataframe tbody tr th {\n",
       "        vertical-align: top;\n",
       "    }\n",
       "\n",
       "    .dataframe thead th {\n",
       "        text-align: right;\n",
       "    }\n",
       "</style>\n",
       "<table border=\"1\" class=\"dataframe\">\n",
       "  <thead>\n",
       "    <tr style=\"text-align: right;\">\n",
       "      <th></th>\n",
       "      <th>Unnamed: 0</th>\n",
       "      <th>Country Name</th>\n",
       "      <th>Year</th>\n",
       "      <th>Agriculture, value added (% of GDP)</th>\n",
       "      <th>CO2 emissions (metric tons per capita)</th>\n",
       "      <th>Domestic credit provided by financial sector (% of GDP)</th>\n",
       "      <th>Electric power consumption (kWh per capita)</th>\n",
       "      <th>Energy use (kg of oil equivalent per capita)</th>\n",
       "      <th>Exports of goods and services (% of GDP)</th>\n",
       "      <th>Fertility rate, total (births per woman)</th>\n",
       "      <th>GDP growth (annual %)</th>\n",
       "      <th>Imports of goods and services (% of GDP)</th>\n",
       "      <th>Industry, value added (% of GDP)</th>\n",
       "      <th>Inflation, GDP deflator (annual %)</th>\n",
       "      <th>Life expectancy at birth, total (years)</th>\n",
       "      <th>Population density (people per sq. km of land area)</th>\n",
       "      <th>Services, etc., value added (% of GDP)</th>\n",
       "      <th>pop</th>\n",
       "      <th>continent</th>\n",
       "      <th>gdpPercap</th>\n",
       "    </tr>\n",
       "  </thead>\n",
       "  <tbody>\n",
       "    <tr>\n",
       "      <th>0</th>\n",
       "      <td>0</td>\n",
       "      <td>Afghanistan</td>\n",
       "      <td>1962</td>\n",
       "      <td>NaN</td>\n",
       "      <td>0.073781</td>\n",
       "      <td>21.276422</td>\n",
       "      <td>NaN</td>\n",
       "      <td>NaN</td>\n",
       "      <td>4.878051</td>\n",
       "      <td>7.450</td>\n",
       "      <td>NaN</td>\n",
       "      <td>9.349593</td>\n",
       "      <td>NaN</td>\n",
       "      <td>NaN</td>\n",
       "      <td>33.219902</td>\n",
       "      <td>14.312061</td>\n",
       "      <td>NaN</td>\n",
       "      <td>10267083.0</td>\n",
       "      <td>Asia</td>\n",
       "      <td>853.100710</td>\n",
       "    </tr>\n",
       "    <tr>\n",
       "      <th>1</th>\n",
       "      <td>1</td>\n",
       "      <td>Afghanistan</td>\n",
       "      <td>1967</td>\n",
       "      <td>NaN</td>\n",
       "      <td>0.123782</td>\n",
       "      <td>9.917662</td>\n",
       "      <td>NaN</td>\n",
       "      <td>NaN</td>\n",
       "      <td>6.772908</td>\n",
       "      <td>7.450</td>\n",
       "      <td>NaN</td>\n",
       "      <td>14.209827</td>\n",
       "      <td>NaN</td>\n",
       "      <td>NaN</td>\n",
       "      <td>35.389415</td>\n",
       "      <td>15.881812</td>\n",
       "      <td>NaN</td>\n",
       "      <td>11537966.0</td>\n",
       "      <td>Asia</td>\n",
       "      <td>836.197138</td>\n",
       "    </tr>\n",
       "    <tr>\n",
       "      <th>2</th>\n",
       "      <td>2</td>\n",
       "      <td>Afghanistan</td>\n",
       "      <td>1972</td>\n",
       "      <td>NaN</td>\n",
       "      <td>0.130820</td>\n",
       "      <td>18.880833</td>\n",
       "      <td>NaN</td>\n",
       "      <td>NaN</td>\n",
       "      <td>14.763231</td>\n",
       "      <td>7.450</td>\n",
       "      <td>NaN</td>\n",
       "      <td>18.105850</td>\n",
       "      <td>NaN</td>\n",
       "      <td>NaN</td>\n",
       "      <td>37.610146</td>\n",
       "      <td>17.947027</td>\n",
       "      <td>NaN</td>\n",
       "      <td>13079460.0</td>\n",
       "      <td>Asia</td>\n",
       "      <td>739.981106</td>\n",
       "    </tr>\n",
       "    <tr>\n",
       "      <th>3</th>\n",
       "      <td>3</td>\n",
       "      <td>Afghanistan</td>\n",
       "      <td>1977</td>\n",
       "      <td>NaN</td>\n",
       "      <td>0.183118</td>\n",
       "      <td>13.836822</td>\n",
       "      <td>NaN</td>\n",
       "      <td>NaN</td>\n",
       "      <td>11.662904</td>\n",
       "      <td>7.449</td>\n",
       "      <td>NaN</td>\n",
       "      <td>14.823175</td>\n",
       "      <td>NaN</td>\n",
       "      <td>NaN</td>\n",
       "      <td>40.110146</td>\n",
       "      <td>19.998926</td>\n",
       "      <td>NaN</td>\n",
       "      <td>14880372.0</td>\n",
       "      <td>Asia</td>\n",
       "      <td>786.113360</td>\n",
       "    </tr>\n",
       "    <tr>\n",
       "      <th>4</th>\n",
       "      <td>4</td>\n",
       "      <td>Afghanistan</td>\n",
       "      <td>1982</td>\n",
       "      <td>NaN</td>\n",
       "      <td>0.165879</td>\n",
       "      <td>NaN</td>\n",
       "      <td>NaN</td>\n",
       "      <td>NaN</td>\n",
       "      <td>NaN</td>\n",
       "      <td>7.450</td>\n",
       "      <td>NaN</td>\n",
       "      <td>NaN</td>\n",
       "      <td>NaN</td>\n",
       "      <td>NaN</td>\n",
       "      <td>43.230732</td>\n",
       "      <td>19.402324</td>\n",
       "      <td>NaN</td>\n",
       "      <td>12881816.0</td>\n",
       "      <td>Asia</td>\n",
       "      <td>978.011439</td>\n",
       "    </tr>\n",
       "  </tbody>\n",
       "</table>\n",
       "</div>"
      ],
      "text/plain": [
       "   Unnamed: 0 Country Name  Year  Agriculture, value added (% of GDP)  \\\n",
       "0           0  Afghanistan  1962                                  NaN   \n",
       "1           1  Afghanistan  1967                                  NaN   \n",
       "2           2  Afghanistan  1972                                  NaN   \n",
       "3           3  Afghanistan  1977                                  NaN   \n",
       "4           4  Afghanistan  1982                                  NaN   \n",
       "\n",
       "   CO2 emissions (metric tons per capita)  \\\n",
       "0                                0.073781   \n",
       "1                                0.123782   \n",
       "2                                0.130820   \n",
       "3                                0.183118   \n",
       "4                                0.165879   \n",
       "\n",
       "   Domestic credit provided by financial sector (% of GDP)  \\\n",
       "0                                          21.276422         \n",
       "1                                           9.917662         \n",
       "2                                          18.880833         \n",
       "3                                          13.836822         \n",
       "4                                                NaN         \n",
       "\n",
       "   Electric power consumption (kWh per capita)  \\\n",
       "0                                          NaN   \n",
       "1                                          NaN   \n",
       "2                                          NaN   \n",
       "3                                          NaN   \n",
       "4                                          NaN   \n",
       "\n",
       "   Energy use (kg of oil equivalent per capita)  \\\n",
       "0                                           NaN   \n",
       "1                                           NaN   \n",
       "2                                           NaN   \n",
       "3                                           NaN   \n",
       "4                                           NaN   \n",
       "\n",
       "   Exports of goods and services (% of GDP)  \\\n",
       "0                                  4.878051   \n",
       "1                                  6.772908   \n",
       "2                                 14.763231   \n",
       "3                                 11.662904   \n",
       "4                                       NaN   \n",
       "\n",
       "   Fertility rate, total (births per woman)  GDP growth (annual %)  \\\n",
       "0                                     7.450                    NaN   \n",
       "1                                     7.450                    NaN   \n",
       "2                                     7.450                    NaN   \n",
       "3                                     7.449                    NaN   \n",
       "4                                     7.450                    NaN   \n",
       "\n",
       "   Imports of goods and services (% of GDP)  Industry, value added (% of GDP)  \\\n",
       "0                                  9.349593                               NaN   \n",
       "1                                 14.209827                               NaN   \n",
       "2                                 18.105850                               NaN   \n",
       "3                                 14.823175                               NaN   \n",
       "4                                       NaN                               NaN   \n",
       "\n",
       "   Inflation, GDP deflator (annual %)  \\\n",
       "0                                 NaN   \n",
       "1                                 NaN   \n",
       "2                                 NaN   \n",
       "3                                 NaN   \n",
       "4                                 NaN   \n",
       "\n",
       "   Life expectancy at birth, total (years)  \\\n",
       "0                                33.219902   \n",
       "1                                35.389415   \n",
       "2                                37.610146   \n",
       "3                                40.110146   \n",
       "4                                43.230732   \n",
       "\n",
       "   Population density (people per sq. km of land area)  \\\n",
       "0                                          14.312061     \n",
       "1                                          15.881812     \n",
       "2                                          17.947027     \n",
       "3                                          19.998926     \n",
       "4                                          19.402324     \n",
       "\n",
       "   Services, etc., value added (% of GDP)         pop continent   gdpPercap  \n",
       "0                                     NaN  10267083.0      Asia  853.100710  \n",
       "1                                     NaN  11537966.0      Asia  836.197138  \n",
       "2                                     NaN  13079460.0      Asia  739.981106  \n",
       "3                                     NaN  14880372.0      Asia  786.113360  \n",
       "4                                     NaN  12881816.0      Asia  978.011439  "
      ]
     },
     "execution_count": 4,
     "metadata": {},
     "output_type": "execute_result"
    }
   ],
   "source": [
    "# display fist five rows\n",
    "df.head()"
   ]
  },
  {
   "cell_type": "markdown",
   "id": "53bca3c6-4dcb-4558-ba40-69165ba78542",
   "metadata": {},
   "source": [
    "# 2. Filter the data to include only rows where `Year` is `1962` and then make a scatter plot comparing `'CO2 emissions (metric tons per capita)'` and `gdpPercap` for the filtered data. \n"
   ]
  },
  {
   "cell_type": "code",
   "execution_count": 5,
   "id": "ca627915-ebee-4591-aea8-6cbad0794b2e",
   "metadata": {
    "tags": []
   },
   "outputs": [
    {
     "data": {
      "text/html": [
       "<div>\n",
       "<style scoped>\n",
       "    .dataframe tbody tr th:only-of-type {\n",
       "        vertical-align: middle;\n",
       "    }\n",
       "\n",
       "    .dataframe tbody tr th {\n",
       "        vertical-align: top;\n",
       "    }\n",
       "\n",
       "    .dataframe thead th {\n",
       "        text-align: right;\n",
       "    }\n",
       "</style>\n",
       "<table border=\"1\" class=\"dataframe\">\n",
       "  <thead>\n",
       "    <tr style=\"text-align: right;\">\n",
       "      <th></th>\n",
       "      <th>Unnamed: 0</th>\n",
       "      <th>Country Name</th>\n",
       "      <th>Year</th>\n",
       "      <th>Agriculture, value added (% of GDP)</th>\n",
       "      <th>CO2 emissions (metric tons per capita)</th>\n",
       "      <th>Domestic credit provided by financial sector (% of GDP)</th>\n",
       "      <th>Electric power consumption (kWh per capita)</th>\n",
       "      <th>Energy use (kg of oil equivalent per capita)</th>\n",
       "      <th>Exports of goods and services (% of GDP)</th>\n",
       "      <th>Fertility rate, total (births per woman)</th>\n",
       "      <th>GDP growth (annual %)</th>\n",
       "      <th>Imports of goods and services (% of GDP)</th>\n",
       "      <th>Industry, value added (% of GDP)</th>\n",
       "      <th>Inflation, GDP deflator (annual %)</th>\n",
       "      <th>Life expectancy at birth, total (years)</th>\n",
       "      <th>Population density (people per sq. km of land area)</th>\n",
       "      <th>Services, etc., value added (% of GDP)</th>\n",
       "      <th>pop</th>\n",
       "      <th>continent</th>\n",
       "      <th>gdpPercap</th>\n",
       "    </tr>\n",
       "  </thead>\n",
       "  <tbody>\n",
       "    <tr>\n",
       "      <th>0</th>\n",
       "      <td>0</td>\n",
       "      <td>Afghanistan</td>\n",
       "      <td>1962</td>\n",
       "      <td>NaN</td>\n",
       "      <td>0.073781</td>\n",
       "      <td>21.276422</td>\n",
       "      <td>NaN</td>\n",
       "      <td>NaN</td>\n",
       "      <td>4.878051</td>\n",
       "      <td>7.450</td>\n",
       "      <td>NaN</td>\n",
       "      <td>9.349593</td>\n",
       "      <td>NaN</td>\n",
       "      <td>NaN</td>\n",
       "      <td>33.219902</td>\n",
       "      <td>14.312061</td>\n",
       "      <td>NaN</td>\n",
       "      <td>10267083.0</td>\n",
       "      <td>Asia</td>\n",
       "      <td>853.100710</td>\n",
       "    </tr>\n",
       "    <tr>\n",
       "      <th>10</th>\n",
       "      <td>10</td>\n",
       "      <td>Albania</td>\n",
       "      <td>1962</td>\n",
       "      <td>NaN</td>\n",
       "      <td>1.439956</td>\n",
       "      <td>NaN</td>\n",
       "      <td>NaN</td>\n",
       "      <td>NaN</td>\n",
       "      <td>NaN</td>\n",
       "      <td>6.282</td>\n",
       "      <td>NaN</td>\n",
       "      <td>NaN</td>\n",
       "      <td>NaN</td>\n",
       "      <td>NaN</td>\n",
       "      <td>64.162854</td>\n",
       "      <td>62.456898</td>\n",
       "      <td>NaN</td>\n",
       "      <td>1728137.0</td>\n",
       "      <td>Europe</td>\n",
       "      <td>2312.888958</td>\n",
       "    </tr>\n",
       "    <tr>\n",
       "      <th>20</th>\n",
       "      <td>20</td>\n",
       "      <td>Algeria</td>\n",
       "      <td>1962</td>\n",
       "      <td>NaN</td>\n",
       "      <td>0.484954</td>\n",
       "      <td>NaN</td>\n",
       "      <td>NaN</td>\n",
       "      <td>NaN</td>\n",
       "      <td>19.793873</td>\n",
       "      <td>7.614</td>\n",
       "      <td>-19.685042</td>\n",
       "      <td>20.818647</td>\n",
       "      <td>NaN</td>\n",
       "      <td>2.351279</td>\n",
       "      <td>47.045000</td>\n",
       "      <td>4.908240</td>\n",
       "      <td>NaN</td>\n",
       "      <td>11000948.0</td>\n",
       "      <td>Africa</td>\n",
       "      <td>2550.816880</td>\n",
       "    </tr>\n",
       "    <tr>\n",
       "      <th>30</th>\n",
       "      <td>30</td>\n",
       "      <td>American Samoa</td>\n",
       "      <td>1962</td>\n",
       "      <td>NaN</td>\n",
       "      <td>NaN</td>\n",
       "      <td>NaN</td>\n",
       "      <td>NaN</td>\n",
       "      <td>NaN</td>\n",
       "      <td>NaN</td>\n",
       "      <td>NaN</td>\n",
       "      <td>NaN</td>\n",
       "      <td>NaN</td>\n",
       "      <td>NaN</td>\n",
       "      <td>NaN</td>\n",
       "      <td>NaN</td>\n",
       "      <td>105.590000</td>\n",
       "      <td>NaN</td>\n",
       "      <td>NaN</td>\n",
       "      <td>NaN</td>\n",
       "      <td>NaN</td>\n",
       "    </tr>\n",
       "    <tr>\n",
       "      <th>40</th>\n",
       "      <td>40</td>\n",
       "      <td>Andorra</td>\n",
       "      <td>1962</td>\n",
       "      <td>NaN</td>\n",
       "      <td>NaN</td>\n",
       "      <td>NaN</td>\n",
       "      <td>NaN</td>\n",
       "      <td>NaN</td>\n",
       "      <td>NaN</td>\n",
       "      <td>NaN</td>\n",
       "      <td>NaN</td>\n",
       "      <td>NaN</td>\n",
       "      <td>NaN</td>\n",
       "      <td>NaN</td>\n",
       "      <td>NaN</td>\n",
       "      <td>32.714894</td>\n",
       "      <td>NaN</td>\n",
       "      <td>NaN</td>\n",
       "      <td>NaN</td>\n",
       "      <td>NaN</td>\n",
       "    </tr>\n",
       "  </tbody>\n",
       "</table>\n",
       "</div>"
      ],
      "text/plain": [
       "    Unnamed: 0    Country Name  Year  Agriculture, value added (% of GDP)  \\\n",
       "0            0     Afghanistan  1962                                  NaN   \n",
       "10          10         Albania  1962                                  NaN   \n",
       "20          20         Algeria  1962                                  NaN   \n",
       "30          30  American Samoa  1962                                  NaN   \n",
       "40          40         Andorra  1962                                  NaN   \n",
       "\n",
       "    CO2 emissions (metric tons per capita)  \\\n",
       "0                                 0.073781   \n",
       "10                                1.439956   \n",
       "20                                0.484954   \n",
       "30                                     NaN   \n",
       "40                                     NaN   \n",
       "\n",
       "    Domestic credit provided by financial sector (% of GDP)  \\\n",
       "0                                           21.276422         \n",
       "10                                                NaN         \n",
       "20                                                NaN         \n",
       "30                                                NaN         \n",
       "40                                                NaN         \n",
       "\n",
       "    Electric power consumption (kWh per capita)  \\\n",
       "0                                           NaN   \n",
       "10                                          NaN   \n",
       "20                                          NaN   \n",
       "30                                          NaN   \n",
       "40                                          NaN   \n",
       "\n",
       "    Energy use (kg of oil equivalent per capita)  \\\n",
       "0                                            NaN   \n",
       "10                                           NaN   \n",
       "20                                           NaN   \n",
       "30                                           NaN   \n",
       "40                                           NaN   \n",
       "\n",
       "    Exports of goods and services (% of GDP)  \\\n",
       "0                                   4.878051   \n",
       "10                                       NaN   \n",
       "20                                 19.793873   \n",
       "30                                       NaN   \n",
       "40                                       NaN   \n",
       "\n",
       "    Fertility rate, total (births per woman)  GDP growth (annual %)  \\\n",
       "0                                      7.450                    NaN   \n",
       "10                                     6.282                    NaN   \n",
       "20                                     7.614             -19.685042   \n",
       "30                                       NaN                    NaN   \n",
       "40                                       NaN                    NaN   \n",
       "\n",
       "    Imports of goods and services (% of GDP)  \\\n",
       "0                                   9.349593   \n",
       "10                                       NaN   \n",
       "20                                 20.818647   \n",
       "30                                       NaN   \n",
       "40                                       NaN   \n",
       "\n",
       "    Industry, value added (% of GDP)  Inflation, GDP deflator (annual %)  \\\n",
       "0                                NaN                                 NaN   \n",
       "10                               NaN                                 NaN   \n",
       "20                               NaN                            2.351279   \n",
       "30                               NaN                                 NaN   \n",
       "40                               NaN                                 NaN   \n",
       "\n",
       "    Life expectancy at birth, total (years)  \\\n",
       "0                                 33.219902   \n",
       "10                                64.162854   \n",
       "20                                47.045000   \n",
       "30                                      NaN   \n",
       "40                                      NaN   \n",
       "\n",
       "    Population density (people per sq. km of land area)  \\\n",
       "0                                           14.312061     \n",
       "10                                          62.456898     \n",
       "20                                           4.908240     \n",
       "30                                         105.590000     \n",
       "40                                          32.714894     \n",
       "\n",
       "    Services, etc., value added (% of GDP)         pop continent    gdpPercap  \n",
       "0                                      NaN  10267083.0      Asia   853.100710  \n",
       "10                                     NaN   1728137.0    Europe  2312.888958  \n",
       "20                                     NaN  11000948.0    Africa  2550.816880  \n",
       "30                                     NaN         NaN       NaN          NaN  \n",
       "40                                     NaN         NaN       NaN          NaN  "
      ]
     },
     "execution_count": 5,
     "metadata": {},
     "output_type": "execute_result"
    }
   ],
   "source": [
    "# Filter the data for the year 1962\n",
    "filtered_df = df[df['Year'] == 1962]\n",
    "filtered_df.head()"
   ]
  },
  {
   "cell_type": "code",
   "execution_count": 6,
   "id": "37d3465a-4c39-4f56-b07b-d8debb084939",
   "metadata": {
    "tags": []
   },
   "outputs": [
    {
     "data": {
      "image/png": "[encoded data removed]",
      "text/plain": [
       "<Figure size 640x480 with 1 Axes>"
      ]
     },
     "metadata": {},
     "output_type": "display_data"
    }
   ],
   "source": [
    "# Create a scatter plot comparing 'CO2 emissions (metric tons per capita)' and gdpPercap for the filtered data\n",
    "plt.scatter(filtered_df['CO2 emissions (metric tons per capita)'], filtered_df['gdpPercap'])\n",
    "plt.xlabel('CO2 emissions (metric tons per capita)')\n",
    "plt.ylabel('GDP per capita')\n",
    "plt.title('CO2 emissions vs GDP per capita (1962)')\n",
    "plt.show()\n"
   ]
  },
  {
   "cell_type": "code",
   "execution_count": 15,
   "id": "cf3510f6-b987-4046-b5a2-b798b84c2fcc",
   "metadata": {
    "tags": []
   },
   "outputs": [
    {
     "data": {
      "text/html": [
       "<div>\n",
       "<style scoped>\n",
       "    .dataframe tbody tr th:only-of-type {\n",
       "        vertical-align: middle;\n",
       "    }\n",
       "\n",
       "    .dataframe tbody tr th {\n",
       "        vertical-align: top;\n",
       "    }\n",
       "\n",
       "    .dataframe thead th {\n",
       "        text-align: right;\n",
       "    }\n",
       "</style>\n",
       "<table border=\"1\" class=\"dataframe\">\n",
       "  <thead>\n",
       "    <tr style=\"text-align: right;\">\n",
       "      <th></th>\n",
       "      <th>Unnamed: 0</th>\n",
       "      <th>Country Name</th>\n",
       "      <th>Year</th>\n",
       "      <th>Agriculture, value added (% of GDP)</th>\n",
       "      <th>CO2 emissions (metric tons per capita)</th>\n",
       "      <th>Domestic credit provided by financial sector (% of GDP)</th>\n",
       "      <th>Electric power consumption (kWh per capita)</th>\n",
       "      <th>Energy use (kg of oil equivalent per capita)</th>\n",
       "      <th>Exports of goods and services (% of GDP)</th>\n",
       "      <th>Fertility rate, total (births per woman)</th>\n",
       "      <th>GDP growth (annual %)</th>\n",
       "      <th>Imports of goods and services (% of GDP)</th>\n",
       "      <th>Industry, value added (% of GDP)</th>\n",
       "      <th>Inflation, GDP deflator (annual %)</th>\n",
       "      <th>Life expectancy at birth, total (years)</th>\n",
       "      <th>Population density (people per sq. km of land area)</th>\n",
       "      <th>Services, etc., value added (% of GDP)</th>\n",
       "      <th>pop</th>\n",
       "      <th>continent</th>\n",
       "      <th>gdpPercap</th>\n",
       "    </tr>\n",
       "  </thead>\n",
       "  <tbody>\n",
       "    <tr>\n",
       "      <th>2403</th>\n",
       "      <td>2403</td>\n",
       "      <td>Turkey</td>\n",
       "      <td>1962</td>\n",
       "      <td>53.875476</td>\n",
       "      <td>0.748241</td>\n",
       "      <td>23.001245</td>\n",
       "      <td>111.760694</td>\n",
       "      <td>410.021797</td>\n",
       "      <td>5.603985</td>\n",
       "      <td>6.175</td>\n",
       "      <td>5.571429</td>\n",
       "      <td>7.970112</td>\n",
       "      <td>17.407878</td>\n",
       "      <td>5.349372</td>\n",
       "      <td>46.836707</td>\n",
       "      <td>37.563485</td>\n",
       "      <td>28.716645</td>\n",
       "      <td>29788695.0</td>\n",
       "      <td>Europe</td>\n",
       "      <td>2322.869908</td>\n",
       "    </tr>\n",
       "  </tbody>\n",
       "</table>\n",
       "</div>"
      ],
      "text/plain": [
       "      Unnamed: 0 Country Name  Year  Agriculture, value added (% of GDP)  \\\n",
       "2403        2403       Turkey  1962                            53.875476   \n",
       "\n",
       "      CO2 emissions (metric tons per capita)  \\\n",
       "2403                                0.748241   \n",
       "\n",
       "      Domestic credit provided by financial sector (% of GDP)  \\\n",
       "2403                                          23.001245         \n",
       "\n",
       "      Electric power consumption (kWh per capita)  \\\n",
       "2403                                   111.760694   \n",
       "\n",
       "      Energy use (kg of oil equivalent per capita)  \\\n",
       "2403                                    410.021797   \n",
       "\n",
       "      Exports of goods and services (% of GDP)  \\\n",
       "2403                                  5.603985   \n",
       "\n",
       "      Fertility rate, total (births per woman)  GDP growth (annual %)  \\\n",
       "2403                                     6.175               5.571429   \n",
       "\n",
       "      Imports of goods and services (% of GDP)  \\\n",
       "2403                                  7.970112   \n",
       "\n",
       "      Industry, value added (% of GDP)  Inflation, GDP deflator (annual %)  \\\n",
       "2403                         17.407878                            5.349372   \n",
       "\n",
       "      Life expectancy at birth, total (years)  \\\n",
       "2403                                46.836707   \n",
       "\n",
       "      Population density (people per sq. km of land area)  \\\n",
       "2403                                          37.563485     \n",
       "\n",
       "      Services, etc., value added (% of GDP)         pop continent  \\\n",
       "2403                               28.716645  29788695.0    Europe   \n",
       "\n",
       "        gdpPercap  \n",
       "2403  2322.869908  "
      ]
     },
     "execution_count": 15,
     "metadata": {},
     "output_type": "execute_result"
    }
   ],
   "source": [
    "filtered_df.dropna()"
   ]
  },
  {
   "cell_type": "markdown",
   "id": "a73e0a3f-8bbb-40d2-b5ff-2366e5ffc2bc",
   "metadata": {
    "tags": []
   },
   "source": [
    "# 3. On the filtered data, calculate the correlation of `'CO2 emissions (metric tons per capita)'` and `gdpPercap`. What is the correlation and associated p value?\n"
   ]
  },
  {
   "cell_type": "code",
   "execution_count": null,
   "id": "d1ce652e-b556-4b06-ac03-f26911647c89",
   "metadata": {},
   "outputs": [],
   "source": [
    "# insepct the distribution of values in the two columns"
   ]
  },
  {
   "cell_type": "code",
   "execution_count": 39,
   "id": "1a07bb0c-3062-47b1-aefd-a64f670df5c3",
   "metadata": {
    "tags": []
   },
   "outputs": [],
   "source": [
    "import pandas as pd\n",
    "\n",
    "# Assuming you have a DataFrame called filtered_df with the columns \"CO2 emissions (metric tons per capita)\" and \"gdpPercap\"\n",
    "# and you want to calculate the means and perform mean imputation on both columns.\n",
    "\n",
    "# Calculate the mean of the non-missing values in the columns\n",
    "x_mean_value = filtered_df[\"CO2 emissions (metric tons per capita)\"].mean()\n",
    "y_mean_value = filtered_df[\"gdpPercap\"].mean()\n",
    "\n",
    "# Mean imputation for \"CO2 emissions (metric tons per capita)\" column\n",
    "x=filtered_df[\"CO2 emissions (metric tons per capita)\"].fillna(x_mean_value)\n",
    "\n",
    "# Mean imputation for \"gdpPercap\" column\n",
    "y=filtered_df[\"gdpPercap\"].fillna(y_mean_value)\n",
    "# dind correlation and p-value\n",
    "correlation_coefficient, p_value = stats.spearmanr(x, y)\n",
    "\n",
    "print(\"Spearman Correlation Coefficient:\", correlation_coefficient)\n",
    "print(\"P-value:\", p_value)\n"
   ]
  },
  {
   "cell_type": "markdown",
   "id": "19f37169-198e-4639-9b2f-5af2381931ad",
   "metadata": {
    "tags": []
   },
   "source": [
    "# 4. On the unfiltered data, answer \"In what year is the correlation between `'CO2 emissions (metric tons per capita)'` and `gdpPercap` the strongest?\" Filter the dataset to that year for the next step..."
   ]
  },
  {
   "cell_type": "code",
   "execution_count": null,
   "id": "ddbedba4-d56d-4fe3-8672-907a468c5c2f",
   "metadata": {
    "tags": []
   },
   "outputs": [],
   "source": [
    "# Find the year with the strongest correlation between 'CO2 emissions (metric tons per capita)' and gdpPercap\n",
    "# strongest_corr_year = df['Year'].iloc[df['CO2 emissions (metric tons per capita)'].corr(df['gdpPercap'].corr().unstack().idxmax(), method='pearson')]\n",
    "\n",
    "# Find the year with the strongest correlation between 'CO2 emissions (metric tons per capita)' and gdpPercap\n",
    "# Find the year with the strongest correlation between 'CO2 emissions (metric tons per capita)' and gdpPercap\n",
    "correlation_years = df.groupby('Year')[['CO2 emissions (metric tons per capita)', 'gdpPercap']].corr().unstack()\n",
    "strongest_corr_year = correlation_years['CO2 emissions (metric tons per capita)'].idxmax()[0]  # Select the first occurrence\n",
    "strongest_corr_year"
   ]
  },
  {
   "cell_type": "code",
   "execution_count": 68,
   "id": "8139a021-ba49-4f39-87f4-51d9a923c434",
   "metadata": {
    "tags": []
   },
   "outputs": [
    {
     "data": {
      "text/html": [
       "<div>\n",
       "<style scoped>\n",
       "    .dataframe tbody tr th:only-of-type {\n",
       "        vertical-align: middle;\n",
       "    }\n",
       "\n",
       "    .dataframe tbody tr th {\n",
       "        vertical-align: top;\n",
       "    }\n",
       "\n",
       "    .dataframe thead th {\n",
       "        text-align: right;\n",
       "    }\n",
       "</style>\n",
       "<table border=\"1\" class=\"dataframe\">\n",
       "  <thead>\n",
       "    <tr style=\"text-align: right;\">\n",
       "      <th></th>\n",
       "      <th>Unnamed: 0</th>\n",
       "      <th>Country Name</th>\n",
       "      <th>Year</th>\n",
       "      <th>Agriculture, value added (% of GDP)</th>\n",
       "      <th>CO2 emissions (metric tons per capita)</th>\n",
       "      <th>Domestic credit provided by financial sector (% of GDP)</th>\n",
       "      <th>Electric power consumption (kWh per capita)</th>\n",
       "      <th>Energy use (kg of oil equivalent per capita)</th>\n",
       "      <th>Exports of goods and services (% of GDP)</th>\n",
       "      <th>Fertility rate, total (births per woman)</th>\n",
       "      <th>GDP growth (annual %)</th>\n",
       "      <th>Imports of goods and services (% of GDP)</th>\n",
       "      <th>Industry, value added (% of GDP)</th>\n",
       "      <th>Inflation, GDP deflator (annual %)</th>\n",
       "      <th>Life expectancy at birth, total (years)</th>\n",
       "      <th>Population density (people per sq. km of land area)</th>\n",
       "      <th>Services, etc., value added (% of GDP)</th>\n",
       "      <th>pop</th>\n",
       "      <th>continent</th>\n",
       "      <th>gdpPercap</th>\n",
       "    </tr>\n",
       "  </thead>\n",
       "  <tbody>\n",
       "    <tr>\n",
       "      <th>0</th>\n",
       "      <td>0</td>\n",
       "      <td>Afghanistan</td>\n",
       "      <td>1962</td>\n",
       "      <td>NaN</td>\n",
       "      <td>0.073781</td>\n",
       "      <td>21.276422</td>\n",
       "      <td>NaN</td>\n",
       "      <td>NaN</td>\n",
       "      <td>4.878051</td>\n",
       "      <td>7.450</td>\n",
       "      <td>NaN</td>\n",
       "      <td>9.349593</td>\n",
       "      <td>NaN</td>\n",
       "      <td>NaN</td>\n",
       "      <td>33.219902</td>\n",
       "      <td>14.312061</td>\n",
       "      <td>NaN</td>\n",
       "      <td>10267083.0</td>\n",
       "      <td>Asia</td>\n",
       "      <td>853.100710</td>\n",
       "    </tr>\n",
       "    <tr>\n",
       "      <th>10</th>\n",
       "      <td>10</td>\n",
       "      <td>Albania</td>\n",
       "      <td>1962</td>\n",
       "      <td>NaN</td>\n",
       "      <td>1.439956</td>\n",
       "      <td>NaN</td>\n",
       "      <td>NaN</td>\n",
       "      <td>NaN</td>\n",
       "      <td>NaN</td>\n",
       "      <td>6.282</td>\n",
       "      <td>NaN</td>\n",
       "      <td>NaN</td>\n",
       "      <td>NaN</td>\n",
       "      <td>NaN</td>\n",
       "      <td>64.162854</td>\n",
       "      <td>62.456898</td>\n",
       "      <td>NaN</td>\n",
       "      <td>1728137.0</td>\n",
       "      <td>Europe</td>\n",
       "      <td>2312.888958</td>\n",
       "    </tr>\n",
       "    <tr>\n",
       "      <th>20</th>\n",
       "      <td>20</td>\n",
       "      <td>Algeria</td>\n",
       "      <td>1962</td>\n",
       "      <td>NaN</td>\n",
       "      <td>0.484954</td>\n",
       "      <td>NaN</td>\n",
       "      <td>NaN</td>\n",
       "      <td>NaN</td>\n",
       "      <td>19.793873</td>\n",
       "      <td>7.614</td>\n",
       "      <td>-19.685042</td>\n",
       "      <td>20.818647</td>\n",
       "      <td>NaN</td>\n",
       "      <td>2.351279</td>\n",
       "      <td>47.045000</td>\n",
       "      <td>4.908240</td>\n",
       "      <td>NaN</td>\n",
       "      <td>11000948.0</td>\n",
       "      <td>Africa</td>\n",
       "      <td>2550.816880</td>\n",
       "    </tr>\n",
       "    <tr>\n",
       "      <th>30</th>\n",
       "      <td>30</td>\n",
       "      <td>American Samoa</td>\n",
       "      <td>1962</td>\n",
       "      <td>NaN</td>\n",
       "      <td>NaN</td>\n",
       "      <td>NaN</td>\n",
       "      <td>NaN</td>\n",
       "      <td>NaN</td>\n",
       "      <td>NaN</td>\n",
       "      <td>NaN</td>\n",
       "      <td>NaN</td>\n",
       "      <td>NaN</td>\n",
       "      <td>NaN</td>\n",
       "      <td>NaN</td>\n",
       "      <td>NaN</td>\n",
       "      <td>105.590000</td>\n",
       "      <td>NaN</td>\n",
       "      <td>NaN</td>\n",
       "      <td>NaN</td>\n",
       "      <td>NaN</td>\n",
       "    </tr>\n",
       "    <tr>\n",
       "      <th>40</th>\n",
       "      <td>40</td>\n",
       "      <td>Andorra</td>\n",
       "      <td>1962</td>\n",
       "      <td>NaN</td>\n",
       "      <td>NaN</td>\n",
       "      <td>NaN</td>\n",
       "      <td>NaN</td>\n",
       "      <td>NaN</td>\n",
       "      <td>NaN</td>\n",
       "      <td>NaN</td>\n",
       "      <td>NaN</td>\n",
       "      <td>NaN</td>\n",
       "      <td>NaN</td>\n",
       "      <td>NaN</td>\n",
       "      <td>NaN</td>\n",
       "      <td>32.714894</td>\n",
       "      <td>NaN</td>\n",
       "      <td>NaN</td>\n",
       "      <td>NaN</td>\n",
       "      <td>NaN</td>\n",
       "    </tr>\n",
       "  </tbody>\n",
       "</table>\n",
       "</div>"
      ],
      "text/plain": [
       "    Unnamed: 0    Country Name  Year  Agriculture, value added (% of GDP)  \\\n",
       "0            0     Afghanistan  1962                                  NaN   \n",
       "10          10         Albania  1962                                  NaN   \n",
       "20          20         Algeria  1962                                  NaN   \n",
       "30          30  American Samoa  1962                                  NaN   \n",
       "40          40         Andorra  1962                                  NaN   \n",
       "\n",
       "    CO2 emissions (metric tons per capita)  \\\n",
       "0                                 0.073781   \n",
       "10                                1.439956   \n",
       "20                                0.484954   \n",
       "30                                     NaN   \n",
       "40                                     NaN   \n",
       "\n",
       "    Domestic credit provided by financial sector (% of GDP)  \\\n",
       "0                                           21.276422         \n",
       "10                                                NaN         \n",
       "20                                                NaN         \n",
       "30                                                NaN         \n",
       "40                                                NaN         \n",
       "\n",
       "    Electric power consumption (kWh per capita)  \\\n",
       "0                                           NaN   \n",
       "10                                          NaN   \n",
       "20                                          NaN   \n",
       "30                                          NaN   \n",
       "40                                          NaN   \n",
       "\n",
       "    Energy use (kg of oil equivalent per capita)  \\\n",
       "0                                            NaN   \n",
       "10                                           NaN   \n",
       "20                                           NaN   \n",
       "30                                           NaN   \n",
       "40                                           NaN   \n",
       "\n",
       "    Exports of goods and services (% of GDP)  \\\n",
       "0                                   4.878051   \n",
       "10                                       NaN   \n",
       "20                                 19.793873   \n",
       "30                                       NaN   \n",
       "40                                       NaN   \n",
       "\n",
       "    Fertility rate, total (births per woman)  GDP growth (annual %)  \\\n",
       "0                                      7.450                    NaN   \n",
       "10                                     6.282                    NaN   \n",
       "20                                     7.614             -19.685042   \n",
       "30                                       NaN                    NaN   \n",
       "40                                       NaN                    NaN   \n",
       "\n",
       "    Imports of goods and services (% of GDP)  \\\n",
       "0                                   9.349593   \n",
       "10                                       NaN   \n",
       "20                                 20.818647   \n",
       "30                                       NaN   \n",
       "40                                       NaN   \n",
       "\n",
       "    Industry, value added (% of GDP)  Inflation, GDP deflator (annual %)  \\\n",
       "0                                NaN                                 NaN   \n",
       "10                               NaN                                 NaN   \n",
       "20                               NaN                            2.351279   \n",
       "30                               NaN                                 NaN   \n",
       "40                               NaN                                 NaN   \n",
       "\n",
       "    Life expectancy at birth, total (years)  \\\n",
       "0                                 33.219902   \n",
       "10                                64.162854   \n",
       "20                                47.045000   \n",
       "30                                      NaN   \n",
       "40                                      NaN   \n",
       "\n",
       "    Population density (people per sq. km of land area)  \\\n",
       "0                                           14.312061     \n",
       "10                                          62.456898     \n",
       "20                                           4.908240     \n",
       "30                                         105.590000     \n",
       "40                                          32.714894     \n",
       "\n",
       "    Services, etc., value added (% of GDP)         pop continent    gdpPercap  \n",
       "0                                      NaN  10267083.0      Asia   853.100710  \n",
       "10                                     NaN   1728137.0    Europe  2312.888958  \n",
       "20                                     NaN  11000948.0    Africa  2550.816880  \n",
       "30                                     NaN         NaN       NaN          NaN  \n",
       "40                                     NaN         NaN       NaN          NaN  "
      ]
     },
     "execution_count": 68,
     "metadata": {},
     "output_type": "execute_result"
    }
   ],
   "source": [
    "# Filter the dataset to the year with the strongest correlation\n",
    "strongest_corr_df = df[df['Year'] == strongest_corr_year]\n",
    "strongest_corr_df.head()"
   ]
  },
  {
   "cell_type": "markdown",
   "id": "8fe4c209-5eee-4e3e-acda-0a1425b57a66",
   "metadata": {},
   "source": [
    "# 5. Using `plotly` or `bokeh`, create an interactive scatter plot comparing `'CO2 emissions (metric tons per capita)'` and `gdpPercap`, where the point size is determined by `pop` (population) and the color is determined by the `continent`. \n"
   ]
  },
  {
   "cell_type": "code",
   "execution_count": 69,
   "id": "1ddbf4a0-2fba-4009-aa43-1483fdc739c7",
   "metadata": {
    "tags": []
   },
   "outputs": [
    {
     "data": {
      "application/vnd.plotly.v1+json": {
       "config": {
        "plotlyServerURL": "https://plot.ly"
       },
       "data": [
        {
         "hovertemplate": "continent=Asia<br>CO2 emissions (metric tons per capita)=%{x}<br>gdpPercap=%{y}<br>pop=%{marker.size}<extra></extra>",
         "legendgroup": "Asia",
         "marker": {
          "color": "#636efa",
          "size": [
           10267083,
           171863,
           56839289,
           6083619,
           665770000,
           454000000,
           99028000,
           7240260,
           2310904,
           95831757,
           933559,
           358266,
           1886848,
           8906385,
           1010280,
           23634436,
           10332057,
           628164,
           53100671,
           30325264,
           4943029,
           1750200,
           10421936,
           29263397,
           33796140
          ],
          "sizemode": "area",
          "sizeref": 1664425,
          "symbol": "circle"
         },
         "mode": "markers",
         "name": "Asia",
         "orientation": "v",
         "showlegend": true,
         "type": "scatter",
         "x": [
          0.0737813379863999,
          9.19360857735,
          null,
          0.0511105919396,
          0.661428164381,
          0.306519469024,
          0.248446979292,
          1.17690410231,
          3.46389969472,
          3.05973635111,
          1.08930257389,
          42.6371176837,
          1.48373168315,
          null,
          1.95074792748,
          0.128404767028,
          0.00848101403663,
          null,
          0.34177551477,
          0.36851208177,
          1.43389833694,
          1.47291795223,
          0.245449870727,
          0.173129692727,
          0.258759875979
         ],
         "xaxis": "x",
         "y": [
          853.1007099999999,
          12753.27514,
          686.3415537999999,
          496.9136476,
          487.6740183,
          658.3471509,
          849.2897700999999,
          8341.737815,
          7105.630706,
          6576.649461,
          2348.009158,
          95458.11176,
          5714.560611,
          2036.884944,
          1056.353958,
          388,
          652.3968593,
          2924.638113,
          803.3427418,
          1649.552153,
          11626.41975,
          3674.735572,
          1074.47196,
          1002.199172,
          772.0491602000001
         ],
         "yaxis": "y"
        },
        {
         "hovertemplate": "continent=Europe<br>CO2 emissions (metric tons per capita)=%{x}<br>gdpPercap=%{y}<br>pop=%{marker.size}<extra></extra>",
         "legendgroup": "Europe",
         "marker": {
          "color": "#EF553B",
          "size": [
           1728137,
           7129864,
           9218400,
           3349000,
           8012946,
           4076557,
           9620282,
           4646899,
           4491443,
           47124000,
           73739117,
           8448233,
           10063000,
           182053,
           2830000,
           50843200,
           474528,
           11805689,
           3638919,
           30329617,
           9019800,
           18680721,
           7616060,
           4237384,
           1582962,
           31158061,
           7561588,
           5666000,
           29788695,
           53292000
          ],
          "sizemode": "area",
          "sizeref": 1664425,
          "symbol": "circle"
         },
         "mode": "markers",
         "name": "Europe",
         "orientation": "v",
         "showlegend": true,
         "type": "scatter",
         "x": [
          1.43995596379,
          4.7553616731,
          10.6411896304,
          null,
          3.83589181807,
          null,
          null,
          7.945107361080001,
          3.74256736643,
          6.20757823899,
          null,
          1.2032011901200002,
          5.025038030219999,
          6.57485551985,
          4.62633804058,
          2.87849638705,
          null,
          7.060853796839999,
          3.86862605863,
          7.15360516027,
          1.0343778647600002,
          3.4202858664999995,
          null,
          null,
          null,
          1.93578153318,
          6.787859772309999,
          4.3335720686800006,
          0.748240893242,
          11.1429283944
         ],
         "xaxis": "x",
         "y": [
          2312.888958,
          10750.72111,
          10991.20676,
          1709.683679,
          4254.337839,
          5477.890018,
          10136.86713,
          13583.31351,
          9371.842561,
          10560.48553,
          12902.46291,
          6017.190732999999,
          7550.359877,
          10350.15906,
          6631.597314,
          8243.58234,
          4649.593785,
          12790.84956,
          13450.40151,
          5338.752143,
          4727.954889,
          4734.997586,
          6289.629157,
          7481.107598,
          7402.303395,
          5693.843879,
          12329.44192,
          20431.0927,
          2322.869908,
          12477.17707
         ],
         "yaxis": "y"
        },
        {
         "hovertemplate": "continent=Africa<br>CO2 emissions (metric tons per capita)=%{x}<br>gdpPercap=%{y}<br>pop=%{marker.size}<extra></extra>",
         "legendgroup": "Africa",
         "marker": {
          "color": "#00cc96",
          "size": [
           11000948,
           4826015,
           2151895,
           512764,
           4919632,
           2961915,
           5793633,
           1523478,
           3150417,
           191689,
           3832408,
           89898,
           249220,
           1666618,
           25145372,
           455661,
           7355248,
           3140003,
           627820,
           8678557,
           893143,
           1112796,
           1441863,
           5703324,
           3628608,
           4690372,
           1146757,
           701016,
           13056604,
           7788944,
           621392,
           4076008,
           41871351,
           3051242,
           65345,
           3430243,
           2467895,
           3080153,
           18356657,
           11183227,
           370006,
           10863958,
           1528098,
           4286552,
           7688797,
           3421000,
           4277736
          ],
          "sizemode": "area",
          "sizeref": 1664425,
          "symbol": "circle"
         },
         "mode": "markers",
         "name": "Africa",
         "orientation": "v",
         "showlegend": true,
         "type": "scatter",
         "x": [
          0.484953660141,
          0.216025342555,
          0.0542015282643,
          null,
          0.0170031197553,
          0.0152025731471,
          0.0517885260883,
          0.0471138131996,
          0.0270119656401,
          0.0564269593763,
          0.156855909486,
          0.5060615711249999,
          0.0852989067225,
          null,
          0.0170548363485,
          0.172630373122,
          0.202357559414,
          0.178831523506,
          0.0640297282582,
          0.304273984865,
          null,
          0.216209634212,
          0.6827006449699999,
          0.0739884401703,
          null,
          0.0258941544429,
          0.0685667838429,
          0.361281304036,
          0.235120747573,
          0.254829220109,
          null,
          0.018352266424,
          0.0887217732028,
          0.0276473843144,
          0.1707460925979999,
          0.24254227941,
          0.145725026244,
          0.0369895900581,
          5.729711710680001,
          0.134379625666,
          null,
          0.0717344659547,
          0.0545698734714,
          0.4129873717800001,
          0.0592582617361,
          null,
          null
         ],
         "xaxis": "x",
         "y": [
          2550.81688,
          4269.276742,
          949.4990641,
          983.6539764,
          722.5120206,
          355.2032273,
          1399.607441,
          1193.068753,
          1389.817618,
          1406.648278,
          1728.8694280000002,
          3020.989263,
          582.8419713999999,
          380.9958433000001,
          419.4564161,
          6631.459222,
          1190.041118,
          686.3736739,
          522.0343725,
          896.9663732,
          411.8006266,
          634.1951625,
          6757.030816,
          1643.38711,
          427.9010856,
          496.1743428,
          1055.896036,
          2529.0674870000003,
          1566.353493,
          556.6863539,
          3173.215595,
          997.7661127,
          1150.9274779999998,
          597.4730727000001,
          1071.551119,
          1654.988723,
          1116.6398769999998,
          1369.488336,
          5768.729717,
          1959.593767,
          1856.182125,
          722.0038073,
          1067.53481,
          1660.30321,
          767.2717397999999,
          1452.725766,
          527.2721818
         ],
         "yaxis": "y"
        },
        {
         "hovertemplate": "continent=Americas<br>CO2 emissions (metric tons per capita)=%{x}<br>gdpPercap=%{y}<br>pop=%{marker.size}<extra></extra>",
         "legendgroup": "Americas",
         "marker": {
          "color": "#FFA15A",
          "size": [
           21283783,
           3593918,
           76039390,
           18985849,
           7961258,
           17009885,
           1345187,
           7254373,
           3453434,
           4681707,
           2747687,
           4208858,
           3880130,
           2090162,
           1665128,
           41121485,
           1590597,
           1215725,
           2009813,
           10516500,
           2448046,
           887498,
           186538000,
           2598466
          ],
          "sizemode": "area",
          "sizeref": 1664425,
          "symbol": "circle"
         },
         "mode": "markers",
         "name": "Americas",
         "orientation": "v",
         "showlegend": true,
         "type": "scatter",
         "x": [
          2.5223921045,
          0.28662649397,
          0.6972807432160001,
          11.1306274847,
          2.07658831467,
          1.11098569008,
          0.383956810879,
          1.90181472038,
          0.353029129213,
          0.325336408962,
          0.221683679656,
          0.317326737332,
          0.0756628306695,
          0.327409489867,
          1.26277490114,
          1.5697444180899998,
          0.349874904588,
          0.991186587845,
          0.195662374952,
          0.93614496813,
          null,
          8.22557012974,
          16.013937498,
          1.54065748629
         ],
         "xaxis": "x",
         "y": [
          7133.166023000001,
          2180.972546,
          3336.585802,
          13462.48555,
          4519.094331,
          2492.351109,
          3460.937025,
          5180.75591,
          1662.137359,
          4086.114078,
          3776.803627,
          2750.364446,
          1796.589032,
          2291.156835,
          5246.107524,
          4581.609385,
          3634.364406,
          3536.540301,
          2148.027146,
          4957.037982,
          5108.34463,
          4997.5239710000005,
          16173.14586,
          5603.357717
         ],
         "yaxis": "y"
        },
        {
         "hovertemplate": "continent=Oceania<br>CO2 emissions (metric tons per capita)=%{x}<br>gdpPercap=%{y}<br>pop=%{marker.size}<extra></extra>",
         "legendgroup": "Oceania",
         "marker": {
          "color": "#19d3f3",
          "size": [
           10794968,
           2488550
          ],
          "sizemode": "area",
          "sizeref": 1664425,
          "symbol": "circle"
         },
         "mode": "markers",
         "name": "Oceania",
         "orientation": "v",
         "showlegend": true,
         "type": "scatter",
         "x": [
          8.83568804692,
          4.51652659146
         ],
         "xaxis": "x",
         "y": [
          12217.22686,
          13175.678
         ],
         "yaxis": "y"
        }
       ],
       "layout": {
        "autosize": true,
        "legend": {
         "itemsizing": "constant",
         "title": {
          "text": "continent"
         },
         "tracegroupgap": 0
        },
        "template": {
         "data": {
          "bar": [
           {
            "error_x": {
             "color": "#2a3f5f"
            },
            "error_y": {
             "color": "#2a3f5f"
            },
            "marker": {
             "line": {
              "color": "#E5ECF6",
              "width": 0.5
             },
             "pattern": {
              "fillmode": "overlay",
              "size": 10,
              "solidity": 0.2
             }
            },
            "type": "bar"
           }
          ],
          "barpolar": [
           {
            "marker": {
             "line": {
              "color": "#E5ECF6",
              "width": 0.5
             },
             "pattern": {
              "fillmode": "overlay",
              "size": 10,
              "solidity": 0.2
             }
            },
            "type": "barpolar"
           }
          ],
          "carpet": [
           {
            "aaxis": {
             "endlinecolor": "#2a3f5f",
             "gridcolor": "white",
             "linecolor": "white",
             "minorgridcolor": "white",
             "startlinecolor": "#2a3f5f"
            },
            "baxis": {
             "endlinecolor": "#2a3f5f",
             "gridcolor": "white",
             "linecolor": "white",
             "minorgridcolor": "white",
             "startlinecolor": "#2a3f5f"
            },
            "type": "carpet"
           }
          ],
          "choropleth": [
           {
            "colorbar": {
             "outlinewidth": 0,
             "ticks": ""
            },
            "type": "choropleth"
           }
          ],
          "contour": [
           {
            "colorbar": {
             "outlinewidth": 0,
             "ticks": ""
            },
            "colorscale": [
             [
              0,
              "#0d0887"
             ],
             [
              0.1111111111111111,
              "#46039f"
             ],
             [
              0.2222222222222222,
              "#7201a8"
             ],
             [
              0.3333333333333333,
              "#9c179e"
             ],
             [
              0.4444444444444444,
              "#bd3786"
             ],
             [
              0.5555555555555556,
              "#d8576b"
             ],
             [
              0.6666666666666666,
              "#ed7953"
             ],
             [
              0.7777777777777778,
              "#fb9f3a"
             ],
             [
              0.8888888888888888,
              "#fdca26"
             ],
             [
              1,
              "#f0f921"
             ]
            ],
            "type": "contour"
           }
          ],
          "contourcarpet": [
           {
            "colorbar": {
             "outlinewidth": 0,
             "ticks": ""
            },
            "type": "contourcarpet"
           }
          ],
          "heatmap": [
           {
            "colorbar": {
             "outlinewidth": 0,
             "ticks": ""
            },
            "colorscale": [
             [
              0,
              "#0d0887"
             ],
             [
              0.1111111111111111,
              "#46039f"
             ],
             [
              0.2222222222222222,
              "#7201a8"
             ],
             [
              0.3333333333333333,
              "#9c179e"
             ],
             [
              0.4444444444444444,
              "#bd3786"
             ],
             [
              0.5555555555555556,
              "#d8576b"
             ],
             [
              0.6666666666666666,
              "#ed7953"
             ],
             [
              0.7777777777777778,
              "#fb9f3a"
             ],
             [
              0.8888888888888888,
              "#fdca26"
             ],
             [
              1,
              "#f0f921"
             ]
            ],
            "type": "heatmap"
           }
          ],
          "heatmapgl": [
           {
            "colorbar": {
             "outlinewidth": 0,
             "ticks": ""
            },
            "colorscale": [
             [
              0,
              "#0d0887"
             ],
             [
              0.1111111111111111,
              "#46039f"
             ],
             [
              0.2222222222222222,
              "#7201a8"
             ],
             [
              0.3333333333333333,
              "#9c179e"
             ],
             [
              0.4444444444444444,
              "#bd3786"
             ],
             [
              0.5555555555555556,
              "#d8576b"
             ],
             [
              0.6666666666666666,
              "#ed7953"
             ],
             [
              0.7777777777777778,
              "#fb9f3a"
             ],
             [
              0.8888888888888888,
              "#fdca26"
             ],
             [
              1,
              "#f0f921"
             ]
            ],
            "type": "heatmapgl"
           }
          ],
          "histogram": [
           {
            "marker": {
             "pattern": {
              "fillmode": "overlay",
              "size": 10,
              "solidity": 0.2
             }
            },
            "type": "histogram"
           }
          ],
          "histogram2d": [
           {
            "colorbar": {
             "outlinewidth": 0,
             "ticks": ""
            },
            "colorscale": [
             [
              0,
              "#0d0887"
             ],
             [
              0.1111111111111111,
              "#46039f"
             ],
             [
              0.2222222222222222,
              "#7201a8"
             ],
             [
              0.3333333333333333,
              "#9c179e"
             ],
             [
              0.4444444444444444,
              "#bd3786"
             ],
             [
              0.5555555555555556,
              "#d8576b"
             ],
             [
              0.6666666666666666,
              "#ed7953"
             ],
             [
              0.7777777777777778,
              "#fb9f3a"
             ],
             [
              0.8888888888888888,
              "#fdca26"
             ],
             [
              1,
              "#f0f921"
             ]
            ],
            "type": "histogram2d"
           }
          ],
          "histogram2dcontour": [
           {
            "colorbar": {
             "outlinewidth": 0,
             "ticks": ""
            },
            "colorscale": [
             [
              0,
              "#0d0887"
             ],
             [
              0.1111111111111111,
              "#46039f"
             ],
             [
              0.2222222222222222,
              "#7201a8"
             ],
             [
              0.3333333333333333,
              "#9c179e"
             ],
             [
              0.4444444444444444,
              "#bd3786"
             ],
             [
              0.5555555555555556,
              "#d8576b"
             ],
             [
              0.6666666666666666,
              "#ed7953"
             ],
             [
              0.7777777777777778,
              "#fb9f3a"
             ],
             [
              0.8888888888888888,
              "#fdca26"
             ],
             [
              1,
              "#f0f921"
             ]
            ],
            "type": "histogram2dcontour"
           }
          ],
          "mesh3d": [
           {
            "colorbar": {
             "outlinewidth": 0,
             "ticks": ""
            },
            "type": "mesh3d"
           }
          ],
          "parcoords": [
           {
            "line": {
             "colorbar": {
              "outlinewidth": 0,
              "ticks": ""
             }
            },
            "type": "parcoords"
           }
          ],
          "pie": [
           {
            "automargin": true,
            "type": "pie"
           }
          ],
          "scatter": [
           {
            "fillpattern": {
             "fillmode": "overlay",
             "size": 10,
             "solidity": 0.2
            },
            "type": "scatter"
           }
          ],
          "scatter3d": [
           {
            "line": {
             "colorbar": {
              "outlinewidth": 0,
              "ticks": ""
             }
            },
            "marker": {
             "colorbar": {
              "outlinewidth": 0,
              "ticks": ""
             }
            },
            "type": "scatter3d"
           }
          ],
          "scattercarpet": [
           {
            "marker": {
             "colorbar": {
              "outlinewidth": 0,
              "ticks": ""
             }
            },
            "type": "scattercarpet"
           }
          ],
          "scattergeo": [
           {
            "marker": {
             "colorbar": {
              "outlinewidth": 0,
              "ticks": ""
             }
            },
            "type": "scattergeo"
           }
          ],
          "scattergl": [
           {
            "marker": {
             "colorbar": {
              "outlinewidth": 0,
              "ticks": ""
             }
            },
            "type": "scattergl"
           }
          ],
          "scattermapbox": [
           {
            "marker": {
             "colorbar": {
              "outlinewidth": 0,
              "ticks": ""
             }
            },
            "type": "scattermapbox"
           }
          ],
          "scatterpolar": [
           {
            "marker": {
             "colorbar": {
              "outlinewidth": 0,
              "ticks": ""
             }
            },
            "type": "scatterpolar"
           }
          ],
          "scatterpolargl": [
           {
            "marker": {
             "colorbar": {
              "outlinewidth": 0,
              "ticks": ""
             }
            },
            "type": "scatterpolargl"
           }
          ],
          "scatterternary": [
           {
            "marker": {
             "colorbar": {
              "outlinewidth": 0,
              "ticks": ""
             }
            },
            "type": "scatterternary"
           }
          ],
          "surface": [
           {
            "colorbar": {
             "outlinewidth": 0,
             "ticks": ""
            },
            "colorscale": [
             [
              0,
              "#0d0887"
             ],
             [
              0.1111111111111111,
              "#46039f"
             ],
             [
              0.2222222222222222,
              "#7201a8"
             ],
             [
              0.3333333333333333,
              "#9c179e"
             ],
             [
              0.4444444444444444,
              "#bd3786"
             ],
             [
              0.5555555555555556,
              "#d8576b"
             ],
             [
              0.6666666666666666,
              "#ed7953"
             ],
             [
              0.7777777777777778,
              "#fb9f3a"
             ],
             [
              0.8888888888888888,
              "#fdca26"
             ],
             [
              1,
              "#f0f921"
             ]
            ],
            "type": "surface"
           }
          ],
          "table": [
           {
            "cells": {
             "fill": {
              "color": "#EBF0F8"
             },
             "line": {
              "color": "white"
             }
            },
            "header": {
             "fill": {
              "color": "#C8D4E3"
             },
             "line": {
              "color": "white"
             }
            },
            "type": "table"
           }
          ]
         },
         "layout": {
          "annotationdefaults": {
           "arrowcolor": "#2a3f5f",
           "arrowhead": 0,
           "arrowwidth": 1
          },
          "autotypenumbers": "strict",
          "coloraxis": {
           "colorbar": {
            "outlinewidth": 0,
            "ticks": ""
           }
          },
          "colorscale": {
           "diverging": [
            [
             0,
             "#8e0152"
            ],
            [
             0.1,
             "#c51b7d"
            ],
            [
             0.2,
             "#de77ae"
            ],
            [
             0.3,
             "#f1b6da"
            ],
            [
             0.4,
             "#fde0ef"
            ],
            [
             0.5,
             "#f7f7f7"
            ],
            [
             0.6,
             "#e6f5d0"
            ],
            [
             0.7,
             "#b8e186"
            ],
            [
             0.8,
             "#7fbc41"
            ],
            [
             0.9,
             "#4d9221"
            ],
            [
             1,
             "#276419"
            ]
           ],
           "sequential": [
            [
             0,
             "#0d0887"
            ],
            [
             0.1111111111111111,
             "#46039f"
            ],
            [
             0.2222222222222222,
             "#7201a8"
            ],
            [
             0.3333333333333333,
             "#9c179e"
            ],
            [
             0.4444444444444444,
             "#bd3786"
            ],
            [
             0.5555555555555556,
             "#d8576b"
            ],
            [
             0.6666666666666666,
             "#ed7953"
            ],
            [
             0.7777777777777778,
             "#fb9f3a"
            ],
            [
             0.8888888888888888,
             "#fdca26"
            ],
            [
             1,
             "#f0f921"
            ]
           ],
           "sequentialminus": [
            [
             0,
             "#0d0887"
            ],
            [
             0.1111111111111111,
             "#46039f"
            ],
            [
             0.2222222222222222,
             "#7201a8"
            ],
            [
             0.3333333333333333,
             "#9c179e"
            ],
            [
             0.4444444444444444,
             "#bd3786"
            ],
            [
             0.5555555555555556,
             "#d8576b"
            ],
            [
             0.6666666666666666,
             "#ed7953"
            ],
            [
             0.7777777777777778,
             "#fb9f3a"
            ],
            [
             0.8888888888888888,
             "#fdca26"
            ],
            [
             1,
             "#f0f921"
            ]
           ]
          },
          "colorway": [
           "#636efa",
           "#EF553B",
           "#00cc96",
           "#ab63fa",
           "#FFA15A",
           "#19d3f3",
           "#FF6692",
           "#B6E880",
           "#FF97FF",
           "#FECB52"
          ],
          "font": {
           "color": "#2a3f5f"
          },
          "geo": {
           "bgcolor": "white",
           "lakecolor": "white",
           "landcolor": "#E5ECF6",
           "showlakes": true,
           "showland": true,
           "subunitcolor": "white"
          },
          "hoverlabel": {
           "align": "left"
          },
          "hovermode": "closest",
          "mapbox": {
           "style": "light"
          },
          "paper_bgcolor": "white",
          "plot_bgcolor": "#E5ECF6",
          "polar": {
           "angularaxis": {
            "gridcolor": "white",
            "linecolor": "white",
            "ticks": ""
           },
           "bgcolor": "#E5ECF6",
           "radialaxis": {
            "gridcolor": "white",
            "linecolor": "white",
            "ticks": ""
           }
          },
          "scene": {
           "xaxis": {
            "backgroundcolor": "#E5ECF6",
            "gridcolor": "white",
            "gridwidth": 2,
            "linecolor": "white",
            "showbackground": true,
            "ticks": "",
            "zerolinecolor": "white"
           },
           "yaxis": {
            "backgroundcolor": "#E5ECF6",
            "gridcolor": "white",
            "gridwidth": 2,
            "linecolor": "white",
            "showbackground": true,
            "ticks": "",
            "zerolinecolor": "white"
           },
           "zaxis": {
            "backgroundcolor": "#E5ECF6",
            "gridcolor": "white",
            "gridwidth": 2,
            "linecolor": "white",
            "showbackground": true,
            "ticks": "",
            "zerolinecolor": "white"
           }
          },
          "shapedefaults": {
           "line": {
            "color": "#2a3f5f"
           }
          },
          "ternary": {
           "aaxis": {
            "gridcolor": "white",
            "linecolor": "white",
            "ticks": ""
           },
           "baxis": {
            "gridcolor": "white",
            "linecolor": "white",
            "ticks": ""
           },
           "bgcolor": "#E5ECF6",
           "caxis": {
            "gridcolor": "white",
            "linecolor": "white",
            "ticks": ""
           }
          },
          "title": {
           "x": 0.05
          },
          "xaxis": {
           "automargin": true,
           "gridcolor": "white",
           "linecolor": "white",
           "ticks": "",
           "title": {
            "standoff": 15
           },
           "zerolinecolor": "white",
           "zerolinewidth": 2
          },
          "yaxis": {
           "automargin": true,
           "gridcolor": "white",
           "linecolor": "white",
           "ticks": "",
           "title": {
            "standoff": 15
           },
           "zerolinecolor": "white",
           "zerolinewidth": 2
          }
         }
        },
        "title": {
         "text": "CO2 emissions vs GDP per capita (1962)"
        },
        "xaxis": {
         "anchor": "y",
         "autorange": true,
         "domain": [
          0,
          1
         ],
         "range": [
          -2.6845242762606913,
          45.16720934651334
         ],
         "title": {
          "text": "CO2 emissions (metric tons per capita)"
         },
         "type": "linear"
        },
        "yaxis": {
         "anchor": "x",
         "autorange": true,
         "domain": [
          0,
          1
         ],
         "range": [
          -15968.581684918776,
          103417.1612917799
         ],
         "title": {
          "text": "gdpPercap"
         },
         "type": "linear"
        }
       }
      },
      "image/png": "[encoded data removed]",
      "text/html": [
       "<div>                            <div id=\"203ce2a7-472b-4f01-93bf-99e72b39872b\" class=\"plotly-graph-div\" style=\"height:525px; width:100%;\"></div>            <script type=\"text/javascript\">                require([\"plotly\"], function(Plotly) {                    window.PLOTLYENV=window.PLOTLYENV || {};                                    if (document.getElementById(\"203ce2a7-472b-4f01-93bf-99e72b39872b\")) {                    Plotly.newPlot(                        \"203ce2a7-472b-4f01-93bf-99e72b39872b\",                        [{\"hovertemplate\":\"continent=Asia\\u003cbr\\u003eCO2 emissions (metric tons per capita)=%{x}\\u003cbr\\u003egdpPercap=%{y}\\u003cbr\\u003epop=%{marker.size}\\u003cextra\\u003e\\u003c\\u002fextra\\u003e\",\"legendgroup\":\"Asia\",\"marker\":{\"color\":\"#636efa\",\"size\":[10267083.0,171863.0,56839289.0,6083619.0,665770000.0,454000000.0,99028000.0,7240260.0,2310904.0,95831757.0,933559.0,358266.0,1886848.0,8906385.0,1010280.0,23634436.0,10332057.0,628164.0,53100671.0,30325264.0,4943029.0,1750200.0,10421936.0,29263397.0,33796140.0],\"sizemode\":\"area\",\"sizeref\":1664425.0,\"symbol\":\"circle\"},\"mode\":\"markers\",\"name\":\"Asia\",\"orientation\":\"v\",\"showlegend\":true,\"x\":[0.0737813379863999,9.19360857735,null,0.0511105919396,0.661428164381,0.306519469024,0.248446979292,1.17690410231,3.46389969472,3.05973635111,1.08930257389,42.6371176837,1.48373168315,null,1.95074792748,0.128404767028,0.00848101403663,null,0.34177551477,0.36851208177,1.43389833694,1.47291795223,0.245449870727,0.173129692727,0.258759875979],\"xaxis\":\"x\",\"y\":[853.1007099999999,12753.27514,686.3415537999999,496.9136476,487.6740183,658.3471509,849.2897700999999,8341.737815,7105.630706,6576.649461,2348.009158,95458.11176,5714.560611,2036.884944,1056.353958,388.0,652.3968593,2924.638113,803.3427418,1649.552153,11626.41975,3674.735572,1074.47196,1002.199172,772.0491602000001],\"yaxis\":\"y\",\"type\":\"scatter\"},{\"hovertemplate\":\"continent=Europe\\u003cbr\\u003eCO2 emissions (metric tons per capita)=%{x}\\u003cbr\\u003egdpPercap=%{y}\\u003cbr\\u003epop=%{marker.size}\\u003cextra\\u003e\\u003c\\u002fextra\\u003e\",\"legendgroup\":\"Europe\",\"marker\":{\"color\":\"#EF553B\",\"size\":[1728137.0,7129864.0,9218400.0,3349000.0,8012946.0,4076557.0,9620282.0,4646899.0,4491443.0,47124000.0,73739117.0,8448233.0,10063000.0,182053.0,2830000.0,50843200.0,474528.0,11805689.0,3638919.0,30329617.0,9019800.0,18680721.0,7616060.0,4237384.0,1582962.0,31158061.0,7561588.0,5666000.0,29788695.0,53292000.0],\"sizemode\":\"area\",\"sizeref\":1664425.0,\"symbol\":\"circle\"},\"mode\":\"markers\",\"name\":\"Europe\",\"orientation\":\"v\",\"showlegend\":true,\"x\":[1.43995596379,4.7553616731,10.6411896304,null,3.83589181807,null,null,7.945107361080001,3.74256736643,6.20757823899,null,1.2032011901200002,5.025038030219999,6.57485551985,4.62633804058,2.87849638705,null,7.060853796839999,3.86862605863,7.15360516027,1.0343778647600002,3.4202858664999995,null,null,null,1.93578153318,6.787859772309999,4.3335720686800006,0.748240893242,11.1429283944],\"xaxis\":\"x\",\"y\":[2312.888958,10750.72111,10991.20676,1709.683679,4254.337839,5477.890018,10136.86713,13583.31351,9371.842561,10560.48553,12902.46291,6017.190732999999,7550.359877,10350.15906,6631.597314,8243.58234,4649.593785,12790.84956,13450.40151,5338.752143,4727.954889,4734.997586,6289.629157,7481.107598,7402.303395,5693.843879,12329.44192,20431.0927,2322.869908,12477.17707],\"yaxis\":\"y\",\"type\":\"scatter\"},{\"hovertemplate\":\"continent=Africa\\u003cbr\\u003eCO2 emissions (metric tons per capita)=%{x}\\u003cbr\\u003egdpPercap=%{y}\\u003cbr\\u003epop=%{marker.size}\\u003cextra\\u003e\\u003c\\u002fextra\\u003e\",\"legendgroup\":\"Africa\",\"marker\":{\"color\":\"#00cc96\",\"size\":[11000948.0,4826015.0,2151895.0,512764.0,4919632.0,2961915.0,5793633.0,1523478.0,3150417.0,191689.0,3832408.0,89898.0,249220.0,1666618.0,25145372.0,455661.0,7355248.0,3140003.0,627820.0,8678557.0,893143.0,1112796.0,1441863.0,5703324.0,3628608.0,4690372.0,1146757.0,701016.0,13056604.0,7788944.0,621392.0,4076008.0,41871351.0,3051242.0,65345.0,3430243.0,2467895.0,3080153.0,18356657.0,11183227.0,370006.0,10863958.0,1528098.0,4286552.0,7688797.0,3421000.0,4277736.0],\"sizemode\":\"area\",\"sizeref\":1664425.0,\"symbol\":\"circle\"},\"mode\":\"markers\",\"name\":\"Africa\",\"orientation\":\"v\",\"showlegend\":true,\"x\":[0.484953660141,0.216025342555,0.0542015282643,null,0.0170031197553,0.0152025731471,0.0517885260883,0.0471138131996,0.0270119656401,0.0564269593763,0.156855909486,0.5060615711249999,0.0852989067225,null,0.0170548363485,0.172630373122,0.202357559414,0.178831523506,0.0640297282582,0.304273984865,null,0.216209634212,0.6827006449699999,0.0739884401703,null,0.0258941544429,0.0685667838429,0.361281304036,0.235120747573,0.254829220109,null,0.018352266424,0.0887217732028,0.0276473843144,0.1707460925979999,0.24254227941,0.145725026244,0.0369895900581,5.729711710680001,0.134379625666,null,0.0717344659547,0.0545698734714,0.4129873717800001,0.0592582617361,null,null],\"xaxis\":\"x\",\"y\":[2550.81688,4269.276742,949.4990641,983.6539764,722.5120206,355.2032273,1399.607441,1193.068753,1389.817618,1406.648278,1728.8694280000002,3020.989263,582.8419713999999,380.9958433000001,419.4564161,6631.459222,1190.041118,686.3736739,522.0343725,896.9663732,411.8006266,634.1951625,6757.030816,1643.38711,427.9010856,496.1743428,1055.896036,2529.0674870000003,1566.353493,556.6863539,3173.215595,997.7661127,1150.9274779999998,597.4730727000001,1071.551119,1654.988723,1116.6398769999998,1369.488336,5768.729717,1959.593767,1856.182125,722.0038073,1067.53481,1660.30321,767.2717397999999,1452.725766,527.2721818],\"yaxis\":\"y\",\"type\":\"scatter\"},{\"hovertemplate\":\"continent=Americas\\u003cbr\\u003eCO2 emissions (metric tons per capita)=%{x}\\u003cbr\\u003egdpPercap=%{y}\\u003cbr\\u003epop=%{marker.size}\\u003cextra\\u003e\\u003c\\u002fextra\\u003e\",\"legendgroup\":\"Americas\",\"marker\":{\"color\":\"#FFA15A\",\"size\":[21283783.0,3593918.0,76039390.0,18985849.0,7961258.0,17009885.0,1345187.0,7254373.0,3453434.0,4681707.0,2747687.0,4208858.0,3880130.0,2090162.0,1665128.0,41121485.0,1590597.0,1215725.0,2009813.0,10516500.0,2448046.0,887498.0,186538000.0,2598466.0],\"sizemode\":\"area\",\"sizeref\":1664425.0,\"symbol\":\"circle\"},\"mode\":\"markers\",\"name\":\"Americas\",\"orientation\":\"v\",\"showlegend\":true,\"x\":[2.5223921045,0.28662649397,0.6972807432160001,11.1306274847,2.07658831467,1.11098569008,0.383956810879,1.90181472038,0.353029129213,0.325336408962,0.221683679656,0.317326737332,0.0756628306695,0.327409489867,1.26277490114,1.5697444180899998,0.349874904588,0.991186587845,0.195662374952,0.93614496813,null,8.22557012974,16.013937498,1.54065748629],\"xaxis\":\"x\",\"y\":[7133.166023000001,2180.972546,3336.585802,13462.48555,4519.094331,2492.351109,3460.937025,5180.75591,1662.137359,4086.114078,3776.803627,2750.364446,1796.589032,2291.156835,5246.107524,4581.609385,3634.364406,3536.540301,2148.027146,4957.037982,5108.34463,4997.5239710000005,16173.14586,5603.357717],\"yaxis\":\"y\",\"type\":\"scatter\"},{\"hovertemplate\":\"continent=Oceania\\u003cbr\\u003eCO2 emissions (metric tons per capita)=%{x}\\u003cbr\\u003egdpPercap=%{y}\\u003cbr\\u003epop=%{marker.size}\\u003cextra\\u003e\\u003c\\u002fextra\\u003e\",\"legendgroup\":\"Oceania\",\"marker\":{\"color\":\"#19d3f3\",\"size\":[10794968.0,2488550.0],\"sizemode\":\"area\",\"sizeref\":1664425.0,\"symbol\":\"circle\"},\"mode\":\"markers\",\"name\":\"Oceania\",\"orientation\":\"v\",\"showlegend\":true,\"x\":[8.83568804692,4.51652659146],\"xaxis\":\"x\",\"y\":[12217.22686,13175.678],\"yaxis\":\"y\",\"type\":\"scatter\"}],                        {\"template\":{\"data\":{\"histogram2dcontour\":[{\"type\":\"histogram2dcontour\",\"colorbar\":{\"outlinewidth\":0,\"ticks\":\"\"},\"colorscale\":[[0.0,\"#0d0887\"],[0.1111111111111111,\"#46039f\"],[0.2222222222222222,\"#7201a8\"],[0.3333333333333333,\"#9c179e\"],[0.4444444444444444,\"#bd3786\"],[0.5555555555555556,\"#d8576b\"],[0.6666666666666666,\"#ed7953\"],[0.7777777777777778,\"#fb9f3a\"],[0.8888888888888888,\"#fdca26\"],[1.0,\"#f0f921\"]]}],\"choropleth\":[{\"type\":\"choropleth\",\"colorbar\":{\"outlinewidth\":0,\"ticks\":\"\"}}],\"histogram2d\":[{\"type\":\"histogram2d\",\"colorbar\":{\"outlinewidth\":0,\"ticks\":\"\"},\"colorscale\":[[0.0,\"#0d0887\"],[0.1111111111111111,\"#46039f\"],[0.2222222222222222,\"#7201a8\"],[0.3333333333333333,\"#9c179e\"],[0.4444444444444444,\"#bd3786\"],[0.5555555555555556,\"#d8576b\"],[0.6666666666666666,\"#ed7953\"],[0.7777777777777778,\"#fb9f3a\"],[0.8888888888888888,\"#fdca26\"],[1.0,\"#f0f921\"]]}],\"heatmap\":[{\"type\":\"heatmap\",\"colorbar\":{\"outlinewidth\":0,\"ticks\":\"\"},\"colorscale\":[[0.0,\"#0d0887\"],[0.1111111111111111,\"#46039f\"],[0.2222222222222222,\"#7201a8\"],[0.3333333333333333,\"#9c179e\"],[0.4444444444444444,\"#bd3786\"],[0.5555555555555556,\"#d8576b\"],[0.6666666666666666,\"#ed7953\"],[0.7777777777777778,\"#fb9f3a\"],[0.8888888888888888,\"#fdca26\"],[1.0,\"#f0f921\"]]}],\"heatmapgl\":[{\"type\":\"heatmapgl\",\"colorbar\":{\"outlinewidth\":0,\"ticks\":\"\"},\"colorscale\":[[0.0,\"#0d0887\"],[0.1111111111111111,\"#46039f\"],[0.2222222222222222,\"#7201a8\"],[0.3333333333333333,\"#9c179e\"],[0.4444444444444444,\"#bd3786\"],[0.5555555555555556,\"#d8576b\"],[0.6666666666666666,\"#ed7953\"],[0.7777777777777778,\"#fb9f3a\"],[0.8888888888888888,\"#fdca26\"],[1.0,\"#f0f921\"]]}],\"contourcarpet\":[{\"type\":\"contourcarpet\",\"colorbar\":{\"outlinewidth\":0,\"ticks\":\"\"}}],\"contour\":[{\"type\":\"contour\",\"colorbar\":{\"outlinewidth\":0,\"ticks\":\"\"},\"colorscale\":[[0.0,\"#0d0887\"],[0.1111111111111111,\"#46039f\"],[0.2222222222222222,\"#7201a8\"],[0.3333333333333333,\"#9c179e\"],[0.4444444444444444,\"#bd3786\"],[0.5555555555555556,\"#d8576b\"],[0.6666666666666666,\"#ed7953\"],[0.7777777777777778,\"#fb9f3a\"],[0.8888888888888888,\"#fdca26\"],[1.0,\"#f0f921\"]]}],\"surface\":[{\"type\":\"surface\",\"colorbar\":{\"outlinewidth\":0,\"ticks\":\"\"},\"colorscale\":[[0.0,\"#0d0887\"],[0.1111111111111111,\"#46039f\"],[0.2222222222222222,\"#7201a8\"],[0.3333333333333333,\"#9c179e\"],[0.4444444444444444,\"#bd3786\"],[0.5555555555555556,\"#d8576b\"],[0.6666666666666666,\"#ed7953\"],[0.7777777777777778,\"#fb9f3a\"],[0.8888888888888888,\"#fdca26\"],[1.0,\"#f0f921\"]]}],\"mesh3d\":[{\"type\":\"mesh3d\",\"colorbar\":{\"outlinewidth\":0,\"ticks\":\"\"}}],\"scatter\":[{\"fillpattern\":{\"fillmode\":\"overlay\",\"size\":10,\"solidity\":0.2},\"type\":\"scatter\"}],\"parcoords\":[{\"type\":\"parcoords\",\"line\":{\"colorbar\":{\"outlinewidth\":0,\"ticks\":\"\"}}}],\"scatterpolargl\":[{\"type\":\"scatterpolargl\",\"marker\":{\"colorbar\":{\"outlinewidth\":0,\"ticks\":\"\"}}}],\"bar\":[{\"error_x\":{\"color\":\"#2a3f5f\"},\"error_y\":{\"color\":\"#2a3f5f\"},\"marker\":{\"line\":{\"color\":\"#E5ECF6\",\"width\":0.5},\"pattern\":{\"fillmode\":\"overlay\",\"size\":10,\"solidity\":0.2}},\"type\":\"bar\"}],\"scattergeo\":[{\"type\":\"scattergeo\",\"marker\":{\"colorbar\":{\"outlinewidth\":0,\"ticks\":\"\"}}}],\"scatterpolar\":[{\"type\":\"scatterpolar\",\"marker\":{\"colorbar\":{\"outlinewidth\":0,\"ticks\":\"\"}}}],\"histogram\":[{\"marker\":{\"pattern\":{\"fillmode\":\"overlay\",\"size\":10,\"solidity\":0.2}},\"type\":\"histogram\"}],\"scattergl\":[{\"type\":\"scattergl\",\"marker\":{\"colorbar\":{\"outlinewidth\":0,\"ticks\":\"\"}}}],\"scatter3d\":[{\"type\":\"scatter3d\",\"line\":{\"colorbar\":{\"outlinewidth\":0,\"ticks\":\"\"}},\"marker\":{\"colorbar\":{\"outlinewidth\":0,\"ticks\":\"\"}}}],\"scattermapbox\":[{\"type\":\"scattermapbox\",\"marker\":{\"colorbar\":{\"outlinewidth\":0,\"ticks\":\"\"}}}],\"scatterternary\":[{\"type\":\"scatterternary\",\"marker\":{\"colorbar\":{\"outlinewidth\":0,\"ticks\":\"\"}}}],\"scattercarpet\":[{\"type\":\"scattercarpet\",\"marker\":{\"colorbar\":{\"outlinewidth\":0,\"ticks\":\"\"}}}],\"carpet\":[{\"aaxis\":{\"endlinecolor\":\"#2a3f5f\",\"gridcolor\":\"white\",\"linecolor\":\"white\",\"minorgridcolor\":\"white\",\"startlinecolor\":\"#2a3f5f\"},\"baxis\":{\"endlinecolor\":\"#2a3f5f\",\"gridcolor\":\"white\",\"linecolor\":\"white\",\"minorgridcolor\":\"white\",\"startlinecolor\":\"#2a3f5f\"},\"type\":\"carpet\"}],\"table\":[{\"cells\":{\"fill\":{\"color\":\"#EBF0F8\"},\"line\":{\"color\":\"white\"}},\"header\":{\"fill\":{\"color\":\"#C8D4E3\"},\"line\":{\"color\":\"white\"}},\"type\":\"table\"}],\"barpolar\":[{\"marker\":{\"line\":{\"color\":\"#E5ECF6\",\"width\":0.5},\"pattern\":{\"fillmode\":\"overlay\",\"size\":10,\"solidity\":0.2}},\"type\":\"barpolar\"}],\"pie\":[{\"automargin\":true,\"type\":\"pie\"}]},\"layout\":{\"autotypenumbers\":\"strict\",\"colorway\":[\"#636efa\",\"#EF553B\",\"#00cc96\",\"#ab63fa\",\"#FFA15A\",\"#19d3f3\",\"#FF6692\",\"#B6E880\",\"#FF97FF\",\"#FECB52\"],\"font\":{\"color\":\"#2a3f5f\"},\"hovermode\":\"closest\",\"hoverlabel\":{\"align\":\"left\"},\"paper_bgcolor\":\"white\",\"plot_bgcolor\":\"#E5ECF6\",\"polar\":{\"bgcolor\":\"#E5ECF6\",\"angularaxis\":{\"gridcolor\":\"white\",\"linecolor\":\"white\",\"ticks\":\"\"},\"radialaxis\":{\"gridcolor\":\"white\",\"linecolor\":\"white\",\"ticks\":\"\"}},\"ternary\":{\"bgcolor\":\"#E5ECF6\",\"aaxis\":{\"gridcolor\":\"white\",\"linecolor\":\"white\",\"ticks\":\"\"},\"baxis\":{\"gridcolor\":\"white\",\"linecolor\":\"white\",\"ticks\":\"\"},\"caxis\":{\"gridcolor\":\"white\",\"linecolor\":\"white\",\"ticks\":\"\"}},\"coloraxis\":{\"colorbar\":{\"outlinewidth\":0,\"ticks\":\"\"}},\"colorscale\":{\"sequential\":[[0.0,\"#0d0887\"],[0.1111111111111111,\"#46039f\"],[0.2222222222222222,\"#7201a8\"],[0.3333333333333333,\"#9c179e\"],[0.4444444444444444,\"#bd3786\"],[0.5555555555555556,\"#d8576b\"],[0.6666666666666666,\"#ed7953\"],[0.7777777777777778,\"#fb9f3a\"],[0.8888888888888888,\"#fdca26\"],[1.0,\"#f0f921\"]],\"sequentialminus\":[[0.0,\"#0d0887\"],[0.1111111111111111,\"#46039f\"],[0.2222222222222222,\"#7201a8\"],[0.3333333333333333,\"#9c179e\"],[0.4444444444444444,\"#bd3786\"],[0.5555555555555556,\"#d8576b\"],[0.6666666666666666,\"#ed7953\"],[0.7777777777777778,\"#fb9f3a\"],[0.8888888888888888,\"#fdca26\"],[1.0,\"#f0f921\"]],\"diverging\":[[0,\"#8e0152\"],[0.1,\"#c51b7d\"],[0.2,\"#de77ae\"],[0.3,\"#f1b6da\"],[0.4,\"#fde0ef\"],[0.5,\"#f7f7f7\"],[0.6,\"#e6f5d0\"],[0.7,\"#b8e186\"],[0.8,\"#7fbc41\"],[0.9,\"#4d9221\"],[1,\"#276419\"]]},\"xaxis\":{\"gridcolor\":\"white\",\"linecolor\":\"white\",\"ticks\":\"\",\"title\":{\"standoff\":15},\"zerolinecolor\":\"white\",\"automargin\":true,\"zerolinewidth\":2},\"yaxis\":{\"gridcolor\":\"white\",\"linecolor\":\"white\",\"ticks\":\"\",\"title\":{\"standoff\":15},\"zerolinecolor\":\"white\",\"automargin\":true,\"zerolinewidth\":2},\"scene\":{\"xaxis\":{\"backgroundcolor\":\"#E5ECF6\",\"gridcolor\":\"white\",\"linecolor\":\"white\",\"showbackground\":true,\"ticks\":\"\",\"zerolinecolor\":\"white\",\"gridwidth\":2},\"yaxis\":{\"backgroundcolor\":\"#E5ECF6\",\"gridcolor\":\"white\",\"linecolor\":\"white\",\"showbackground\":true,\"ticks\":\"\",\"zerolinecolor\":\"white\",\"gridwidth\":2},\"zaxis\":{\"backgroundcolor\":\"#E5ECF6\",\"gridcolor\":\"white\",\"linecolor\":\"white\",\"showbackground\":true,\"ticks\":\"\",\"zerolinecolor\":\"white\",\"gridwidth\":2}},\"shapedefaults\":{\"line\":{\"color\":\"#2a3f5f\"}},\"annotationdefaults\":{\"arrowcolor\":\"#2a3f5f\",\"arrowhead\":0,\"arrowwidth\":1},\"geo\":{\"bgcolor\":\"white\",\"landcolor\":\"#E5ECF6\",\"subunitcolor\":\"white\",\"showland\":true,\"showlakes\":true,\"lakecolor\":\"white\"},\"title\":{\"x\":0.05},\"mapbox\":{\"style\":\"light\"}}},\"xaxis\":{\"anchor\":\"y\",\"domain\":[0.0,1.0],\"title\":{\"text\":\"CO2 emissions (metric tons per capita)\"}},\"yaxis\":{\"anchor\":\"x\",\"domain\":[0.0,1.0],\"title\":{\"text\":\"gdpPercap\"}},\"legend\":{\"title\":{\"text\":\"continent\"},\"tracegroupgap\":0,\"itemsizing\":\"constant\"},\"title\":{\"text\":\"CO2 emissions vs GDP per capita (1962)\"}},                        {\"responsive\": true}                    ).then(function(){\n",
       "                            \n",
       "var gd = document.getElementById('203ce2a7-472b-4f01-93bf-99e72b39872b');\n",
       "var x = new MutationObserver(function (mutations, observer) {{\n",
       "        var display = window.getComputedStyle(gd).display;\n",
       "        if (!display || display === 'none') {{\n",
       "            console.log([gd, 'removed!']);\n",
       "            Plotly.purge(gd);\n",
       "            observer.disconnect();\n",
       "        }}\n",
       "}});\n",
       "\n",
       "// Listen for the removal of the full notebook cells\n",
       "var notebookContainer = gd.closest('#notebook-container');\n",
       "if (notebookContainer) {{\n",
       "    x.observe(notebookContainer, {childList: true});\n",
       "}}\n",
       "\n",
       "// Listen for the clearing of the current output cell\n",
       "var outputEl = gd.closest('.output');\n",
       "if (outputEl) {{\n",
       "    x.observe(outputEl, {childList: true});\n",
       "}}\n",
       "\n",
       "                        })                };                });            </script>        </div>"
      ]
     },
     "metadata": {},
     "output_type": "display_data"
    }
   ],
   "source": [
    "# Create an interactive scatter plot using plotly, where point size is determined by pop (population) and color is determined by the continent\n",
    "fig = px.scatter(strongest_corr_df, x='CO2 emissions (metric tons per capita)', y='gdpPercap', size='pop', color='continent',\n",
    "                 title=f\"CO2 emissions vs GDP per capita ({strongest_corr_year})\")\n",
    "fig.show()"
   ]
  },
  {
   "cell_type": "markdown",
   "id": "d30baac4-1f2d-4092-a1cf-e15548e2aead",
   "metadata": {},
   "source": [
    "# 1. What is the relationship between `continent` and `'Energy use (kg of oil equivalent per capita)'`? (Stats test needed)\n",
    "Continet-Categorical variable\n",
    "energy per capita- continuous varibale\n",
    "best test ANOVA"
   ]
  },
  {
   "cell_type": "code",
   "execution_count": 42,
   "id": "faeb683c-3958-4aaf-b0df-4580db24c623",
   "metadata": {
    "tags": []
   },
   "outputs": [
    {
     "data": {
      "text/plain": [
       "F_onewayResult(statistic=58.31557864073858, pvalue=1.313056755307394e-40)"
      ]
     },
     "execution_count": 42,
     "metadata": {},
     "output_type": "execute_result"
    }
   ],
   "source": [
    "# Perform one-way ANOVA test to assess the relationship between continent and 'Energy use'\n",
    "df.dropna(inplace=True)\n",
    "result_anova = stats.f_oneway(*[df[df['continent'] == cont]['Energy use (kg of oil equivalent per capita)'] for cont in df['continent'].unique()])\n",
    "result_anova\n",
    "# Ho-There is no significant difference in energy use among the continents.\n"
   ]
  },
  {
   "cell_type": "markdown",
   "id": "885194b9-989b-4d55-b0f7-681c1323e77b",
   "metadata": {},
   "source": [
    "# 2. Is there a significant difference between Europe and Asia with respect to `'Imports of goods and services (% of GDP)'` in the years after 1990? (Stats test needed)\n",
    "- Here we want to compare variation bwtween tow continuous variables hence t-tes"
   ]
  },
  {
   "cell_type": "markdown",
   "id": "4e624268-bd4c-48e2-a134-5d2236d28b0e",
   "metadata": {},
   "source": [
    "The result indicates that there is a significant relationship between the continent and energy use."
   ]
  },
  {
   "cell_type": "code",
   "execution_count": 83,
   "id": "8988e901-76ac-477b-b1b9-a227ed7e7765",
   "metadata": {
    "tags": []
   },
   "outputs": [
    {
     "name": "stdout",
     "output_type": "stream",
     "text": [
      "There is no significant difference between Europe and Asia with respect to 'Imports of goods and services (% of GDP)' in the years after 1990.\n"
     ]
    }
   ],
   "source": [
    "# Filter data for years after 1990\n",
    "df_after_1990 = df[df['Year'] > 1990]\n",
    "\n",
    "# Perform independent t-test to compare 'Imports of goods and services (% of GDP)' between Europe and Asia\n",
    "result_ttest = stats.ttest_ind(df_after_1990[df_after_1990['continent'] == 'Europe']['Imports of goods and services (% of GDP)'],\n",
    "                               df_after_1990[df_after_1990['continent'] == 'Asia']['Imports of goods and services (% of GDP)'])\n",
    "\n",
    "# Check the p-value to determine significance\n",
    "p_value_ttest = result_ttest.pvalue\n",
    "if p_value_ttest < 0.05:\n",
    "    print(\"There is a significant difference between Europe and Asia with respect to 'Imports of goods and services (% of GDP)' in the years after 1990.\")\n",
    "else:\n",
    "    print(\"There is no significant difference between Europe and Asia with respect to 'Imports of goods and services (% of GDP)' in the years after 1990.\")"
   ]
  },
  {
   "cell_type": "markdown",
   "id": "2763f465-f911-4294-86ad-abd6e13307f3",
   "metadata": {},
   "source": [
    "# 3. What is the country (or countries) that has the highest `'Population density (people per sq. km of land area)'` across all years? (i.e., which country has the highest average ranking in this category across each time point in the dataset?)\n",
    "-\n",
    "concepts: group by, rank, average and max python methods"
   ]
  },
  {
   "cell_type": "code",
   "execution_count": 79,
   "id": "9a0c63a2-10a4-4a7f-8ac1-10329f65c95d",
   "metadata": {
    "tags": []
   },
   "outputs": [
    {
     "name": "stdout",
     "output_type": "stream",
     "text": [
      "The country with the highest average ranking in 'Population density (people per sq. km of land area)' across all years is: Belgium\n",
      "The highest average ranking value is: 5.5\n"
     ]
    },
    {
     "data": {
      "image/png": "[encoded data removed]",
      "text/plain": [
       "<Figure size 1000x600 with 1 Axes>"
      ]
     },
     "metadata": {},
     "output_type": "display_data"
    }
   ],
   "source": [
    "import pandas as pd\n",
    "import matplotlib.pyplot as plt\n",
    "\n",
    "# Read the data into a DataFrame\n",
    "df = pd.read_csv('gapminder_clean.csv')\n",
    "\n",
    "# Calculate average ranking for each country based on 'Population density (people per sq. km of land area)'\n",
    "df['Population Density Rank'] = df.groupby('Country Name')['Population density (people per sq. km of land area)'].rank(ascending=False, method='average')\n",
    "\n",
    "# Calculate the mean ranking for each country across all years\n",
    "average_ranking_per_country = df.groupby('Country Name')['Population Density Rank'].mean()\n",
    "\n",
    "# Find the country with the highest average ranking (highest population density)\n",
    "highest_density_country = average_ranking_per_country.idxmin()\n",
    "highest_density_avg_rank = average_ranking_per_country.max()\n",
    "\n",
    "print(f\"The country with the highest average ranking in 'Population density (people per sq. km of land area)' across all years is: {highest_density_country}\")\n",
    "print(f\"The highest average ranking value is: {highest_density_avg_rank}\")\n",
    "\n",
    "# Create a vertical bar graph\n",
    "plt.figure(figsize=(10, 6))\n",
    "average_ranking_per_country.nlargest(10).plot(kind='bar')\n",
    "plt.title('Countries with Highest Population Density')\n",
    "plt.xlabel('Country')\n",
    "plt.ylabel('Average Ranking')\n",
    "plt.xticks(rotation=45, ha='right')\n",
    "plt.tight_layout()\n",
    "plt.show()\n"
   ]
  },
  {
   "cell_type": "code",
   "execution_count": null,
   "id": "a9ac673e-231c-47dd-8800-94f8815e05a0",
   "metadata": {},
   "outputs": [],
   "source": []
  },
  {
   "cell_type": "markdown",
   "id": "c701eb75-a03b-4a16-83a6-0126d9eb246e",
   "metadata": {},
   "source": [
    "# Kuwait has the highest average ranking"
   ]
  },
  {
   "cell_type": "markdown",
   "id": "9ea1b052-b8c9-496c-ad2c-5210c982195d",
   "metadata": {},
   "source": [
    "# 4. What country (or countries) has shown the greatest increase in `'Life expectancy at birth, total (years)'` since 1962? \n"
   ]
  },
  {
   "cell_type": "code",
   "execution_count": 47,
   "id": "04a25c29-d71c-4a80-af14-938513ba9983",
   "metadata": {
    "tags": []
   },
   "outputs": [
    {
     "data": {
      "image/png": "[encoded data removed]",
      "text/plain": [
       "<Figure size 1000x600 with 1 Axes>"
      ]
     },
     "metadata": {},
     "output_type": "display_data"
    }
   ],
   "source": [
    "import pandas as pd\n",
    "import matplotlib.pyplot as plt\n",
    "\n",
    "# Read the data into a DataFrame\n",
    "df = pd.read_csv('gapminder_clean.csv')\n",
    "\n",
    "# Filter data for years 1962 and 2007\n",
    "df_1962 = df[df['Year'] == 1962]\n",
    "df_2007 = df[df['Year'] == 2007]\n",
    "\n",
    "# Merge data for years 1962 and 2007 on 'country'\n",
    "merged_df = pd.merge(df_1962[['Country Name', 'Life expectancy at birth, total (years)']],\n",
    "                     df_2007[['Country Name', 'Life expectancy at birth, total (years)']],\n",
    "                     on='Country Name',\n",
    "                     suffixes=('_1962', '_2007'))\n",
    "\n",
    "# Calculate the increase in life expectancy between 1962 and 2007\n",
    "merged_df['Life Expectancy Increase'] = merged_df['Life expectancy at birth, total (years)_2007'] - merged_df['Life expectancy at birth, total (years)_1962']\n",
    "\n",
    "# Sort the DataFrame by the 'Life Expectancy Increase' in descending order\n",
    "sorted_df = merged_df.sort_values(by='Life Expectancy Increase', ascending=False)\n",
    "\n",
    "# Select the top 10 countries with the greatest increase in life expectancy\n",
    "top_10_countries = sorted_df.head(10)\n",
    "\n",
    "# Create a horizontal bar plot\n",
    "plt.figure(figsize=(10, 6))\n",
    "plt.barh(top_10_countries['Country Name'], top_10_countries['Life Expectancy Increase'])\n",
    "plt.xlabel('Increase in Life Expectancy (years)')\n",
    "plt.ylabel('Country')\n",
    "plt.title(\"Top 10 Countries with the Greatest Increase in 'Life Expectancy at Birth, Total' (1962 to 2007)\")\n",
    "plt.tight_layout()\n",
    "plt.show()\n"
   ]
  },
  {
   "cell_type": "markdown",
   "id": "05cc9146-c087-48db-8911-4d0001a6925c",
   "metadata": {},
   "source": [
    "# The country with greatest increase of life expectancy is Maldives"
   ]
  },
  {
   "cell_type": "code",
   "execution_count": 49,
   "id": "30541c0b-7fdb-4a63-b712-7c5702db5a55",
   "metadata": {
    "tags": []
   },
   "outputs": [
    {
     "data": {
      "text/plain": [
       "Country Name                                     Zimbabwe\n",
       "Life expectancy at birth, total (years)_1962    73.721951\n",
       "Life expectancy at birth, total (years)_2007    82.507073\n",
       "Life Expectancy Increase                        36.916146\n",
       "dtype: object"
      ]
     },
     "execution_count": 49,
     "metadata": {},
     "output_type": "execute_result"
    }
   ],
   "source": [
    "m"
   ]
  }
 ],
 "metadata": {
  "kernelspec": {
   "display_name": "Python 3 (ipykernel)",
   "language": "python",
   "name": "python3"
  },
  "language_info": {
   "codemirror_mode": {
    "name": "ipython",
    "version": 3
   },
   "file_extension": ".py",
   "mimetype": "text/x-python",
   "name": "python",
   "nbconvert_exporter": "python",
   "pygments_lexer": "ipython3",
   "version": "3.10.6"
  }
 },
 "nbformat": 4,
 "nbformat_minor": 5
}
